{
 "cells": [
  {
   "cell_type": "markdown",
   "metadata": {},
   "source": [
    "### 연습문제 \n",
    "1. csv 폴더에 있는 Sales Records.csv 파일 로드 \n",
    "2. 'Order ID', 'Total Revenue', 'Total Cost', 'Total Profit', 'Sales Channel' 컬럼을 제거 \n",
    "3. 컬럼의 이름을 변경 -> ['대륙', '국가', '상품종류', '우선순위', '주문일자', '발송일자', '판매단위', '단가', '원가']\n",
    "4. 대륙, 국가를 기준으로 오름차순 정렬 \n",
    "5. 기존의 인덱스를 제거하고 인덱스를 재지정\n",
    "6. 새로운 파생변수 생성\n",
    "    - 총단가 -> 판매단위 * 단가\n",
    "    - 총원가 -> 판매단위 * 원가\n",
    "    - 총이윤 -> 총단가 - 총원가"
   ]
  },
  {
   "cell_type": "code",
   "execution_count": null,
   "metadata": {},
   "outputs": [],
   "source": [
    "import pandas as pd"
   ]
  },
  {
   "cell_type": "code",
   "execution_count": null,
   "metadata": {},
   "outputs": [],
   "source": [
    "df = pd.read_csv(\"../../csv/Sales Records.csv\")\n",
    "df.head(1)"
   ]
  },
  {
   "cell_type": "code",
   "execution_count": null,
   "metadata": {},
   "outputs": [],
   "source": [
    "sales = df.copy()"
   ]
  },
  {
   "cell_type": "code",
   "execution_count": null,
   "metadata": {},
   "outputs": [],
   "source": [
    "# 특정 컬럼을 제거 \n",
    "# drop({조건식}, axis={0|1}, inplace = {bool})\n",
    "df.drop('Order ID', axis=1, inplace=True)\n",
    "df.drop('Total Revenue', axis=1, inplace=True)\n",
    "df.drop('Total Cost', axis=1, inplace=True)\n",
    "df.drop('Total Profit', axis=1, inplace=True)\n",
    "df.drop('Sales Channel', axis=1, inplace=True)\n",
    "df.head(1)"
   ]
  },
  {
   "cell_type": "code",
   "execution_count": null,
   "metadata": {},
   "outputs": [],
   "source": [
    "sales.drop(\n",
    "    ['Order ID', 'Total Revenue', 'Total Cost', 'Total Profit', 'Sales Channel'],\n",
    "    axis=1, \n",
    "    inplace = True\n",
    "    )"
   ]
  },
  {
   "cell_type": "code",
   "execution_count": null,
   "metadata": {},
   "outputs": [],
   "source": [
    "sales.head(1)"
   ]
  },
  {
   "cell_type": "code",
   "execution_count": null,
   "metadata": {},
   "outputs": [],
   "source": [
    "# 컬럼의 이름을 변경 \n",
    "sales.columns = ['대륙', '국가', '상품종류', '우선순위', '주문일자', \n",
    "                 '발송일자', '판매단위', '단가', '원가']\n",
    "sales.head(1)"
   ]
  },
  {
   "cell_type": "code",
   "execution_count": null,
   "metadata": {},
   "outputs": [],
   "source": [
    "# 대륙과 국가를 기준으로 오름차순 정렬 \n",
    "sales.sort_values(['대륙', '국가'], inplace = True)\n",
    "sales.head()"
   ]
  },
  {
   "cell_type": "code",
   "execution_count": null,
   "metadata": {},
   "outputs": [],
   "source": [
    "# 인덱스를 재지정(기존의 인덱스는 제거)\n",
    "sales.reset_index(drop=True, inplace=True)\n",
    "# sales.reset_index().drop('index', axis=1)"
   ]
  },
  {
   "cell_type": "code",
   "execution_count": null,
   "metadata": {},
   "outputs": [],
   "source": [
    "sales.head()"
   ]
  },
  {
   "cell_type": "code",
   "execution_count": null,
   "metadata": {},
   "outputs": [],
   "source": [
    "# 파생변수를 생성 \n",
    "sales['총단가'] = sales['판매단위'] * sales['단가']\n",
    "sales['총원가'] = sales['판매단위'] * sales['원가']\n",
    "sales['총이윤'] = sales['총단가'] - sales['총원가']"
   ]
  },
  {
   "cell_type": "code",
   "execution_count": null,
   "metadata": {},
   "outputs": [],
   "source": [
    "sales.head()"
   ]
  },
  {
   "cell_type": "code",
   "execution_count": null,
   "metadata": {},
   "outputs": [],
   "source": [
    "# 국가별 빈도수 체크 \n",
    "sales.info()"
   ]
  },
  {
   "cell_type": "code",
   "execution_count": null,
   "metadata": {},
   "outputs": [],
   "source": [
    "sales['국가'].value_counts()"
   ]
  },
  {
   "cell_type": "code",
   "execution_count": null,
   "metadata": {},
   "outputs": [],
   "source": [
    "# 그룹화 \n",
    "# groupby({그룹화할 컬럼}).연산식\n",
    "group_data = sales[['국가', '총이윤']].groupby('국가').sum()"
   ]
  },
  {
   "cell_type": "code",
   "execution_count": null,
   "metadata": {},
   "outputs": [],
   "source": [
    "group_data.sort_values('총이윤', ascending=False, inplace=True)"
   ]
  },
  {
   "cell_type": "code",
   "execution_count": null,
   "metadata": {},
   "outputs": [],
   "source": [
    "group_data.head(5)"
   ]
  },
  {
   "cell_type": "code",
   "execution_count": null,
   "metadata": {},
   "outputs": [],
   "source": [
    "len(group_data)"
   ]
  },
  {
   "cell_type": "code",
   "execution_count": null,
   "metadata": {},
   "outputs": [],
   "source": [
    "# South Korea의 랭킹을 구하기 \n",
    "\n",
    "# case1 (while문)\n",
    "# 내림차순 정렬이 되어있는 국가별 index 값들 중 몇번쨰 위치에 한국이 존재하는가?\n",
    "# index의 값들을 South Korea와 비교하여 위치 값을 찾는다\n",
    "\n",
    "# 데이터프레임에서 index의 위치가 첫번째인 데이터만 출력하려면? \n",
    "group_data.iloc[ [0] ].index[0] == 'South Korea'\n",
    "\n",
    "i = 0\n",
    "\n",
    "while i < len(group_data):\n",
    "    if group_data.iloc[ [i] ].index[0] == 'South Korea':\n",
    "        break\n",
    "    i += 1\n",
    "print(i+1)"
   ]
  },
  {
   "cell_type": "code",
   "execution_count": null,
   "metadata": {},
   "outputs": [],
   "source": [
    "# case2 (for문)\n",
    "korea_rank = 1\n",
    "for i in group_data.index:\n",
    "    if i == 'South Korea':\n",
    "        break\n",
    "    korea_rank += 1\n",
    "korea_rank"
   ]
  },
  {
   "cell_type": "code",
   "execution_count": null,
   "metadata": {},
   "outputs": [],
   "source": [
    "# case3 (reset_index())\n",
    "case3 = group_data.reset_index()"
   ]
  },
  {
   "cell_type": "code",
   "execution_count": null,
   "metadata": {},
   "outputs": [],
   "source": [
    "case3.loc[case3['국가'] == 'South Korea'].index[0]+1"
   ]
  },
  {
   "cell_type": "code",
   "execution_count": null,
   "metadata": {},
   "outputs": [],
   "source": [
    "# case4(rank 파생변수 생성)\n",
    "group_data['rank'] = range(1, len(group_data)+1)"
   ]
  },
  {
   "cell_type": "code",
   "execution_count": null,
   "metadata": {},
   "outputs": [],
   "source": [
    "group_data.loc['South Korea', 'rank']"
   ]
  },
  {
   "cell_type": "code",
   "execution_count": null,
   "metadata": {},
   "outputs": [],
   "source": [
    "# case5 (list데이터의 내장함수)\n",
    "# 위치 값을 찾는 함수 - 문자형(index(), find()), 배열(index())\n",
    "list(group_data.index).index('South Korea') + 1"
   ]
  },
  {
   "cell_type": "code",
   "execution_count": null,
   "metadata": {},
   "outputs": [],
   "source": [
    "# 그래프 시각화 \n",
    "# 국가별 총 이윤 그래프를 시각화 \n",
    "# 바형 그래프 \n",
    "#  상위의 10개의 국가만 바형 그래프 표시 \n",
    "data = group_data.head(10)"
   ]
  },
  {
   "cell_type": "code",
   "execution_count": null,
   "metadata": {},
   "outputs": [],
   "source": [
    "import matplotlib.pyplot as plt"
   ]
  },
  {
   "cell_type": "code",
   "execution_count": null,
   "metadata": {},
   "outputs": [],
   "source": [
    "x = data.index\n",
    "y = data['총이윤']\n",
    "\n",
    "plt.figure(figsize=(14, 8))\n",
    "plt.bar(x, y)\n",
    "plt.show()"
   ]
  },
  {
   "cell_type": "code",
   "execution_count": null,
   "metadata": {},
   "outputs": [],
   "source": [
    "# x축과 y축 반전 시킨 바형 그래프 \n",
    "plt.barh(x, y)\n",
    "plt.show()"
   ]
  },
  {
   "cell_type": "code",
   "execution_count": 81,
   "metadata": {},
   "outputs": [
    {
     "data": {
      "image/png": "[encoded data removed]",
      "text/plain": [
       "<Figure size 640x480 with 1 Axes>"
      ]
     },
     "metadata": {},
     "output_type": "display_data"
    }
   ],
   "source": [
    "plt.bar(x, y)\n",
    "plt.xticks(rotation=45)\n",
    "plt.show()"
   ]
  }
 ],
 "metadata": {
  "kernelspec": {
   "display_name": "Python 3",
   "language": "python",
   "name": "python3"
  },
  "language_info": {
   "codemirror_mode": {
    "name": "ipython",
    "version": 3
   },
   "file_extension": ".py",
   "mimetype": "text/x-python",
   "name": "python",
   "nbconvert_exporter": "python",
   "pygments_lexer": "ipython3",
   "version": "3.11.1"
  }
 },
 "nbformat": 4,
 "nbformat_minor": 2
}
