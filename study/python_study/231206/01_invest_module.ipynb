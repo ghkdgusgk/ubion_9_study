{
 "cells": [
  {
   "cell_type": "markdown",
   "metadata": {},
   "source": [
    "### 외부의 커스텀 모듈을 로드 \n",
    "1. invest 모듈 로드 \n",
    "    - 문제점이 발생 \n",
    "        - 해당하는 파일의 위치와 모듈의 위치가 다르다\n",
    "        - 해당하는 위치에서 모듈을 찾을수 없습니다\n",
    "    - 문제점을 해결하기 위한 방안 \n",
    "        - sys 라이브러리를 이용하여 환경 변수를 설정"
   ]
  },
  {
   "cell_type": "code",
   "execution_count": 9,
   "metadata": {},
   "outputs": [],
   "source": [
    "import sys"
   ]
  },
  {
   "cell_type": "code",
   "execution_count": 10,
   "metadata": {},
   "outputs": [],
   "source": [
    "sys.path.append('C:\\\\Users\\\\moons\\\\Documents\\\\GitHub\\\\ubion_9\\\\python')"
   ]
  },
  {
   "cell_type": "code",
   "execution_count": 11,
   "metadata": {},
   "outputs": [
    {
     "data": {
      "text/plain": [
       "['c:\\\\Users\\\\moons\\\\Documents\\\\GitHub\\\\ubion_9\\\\python\\\\231206',\n",
       " 'C:\\\\pyCode\\\\packages',\n",
       " 'C:\\\\pyCode\\\\modules',\n",
       " 'c:\\\\Users\\\\moons\\\\AppData\\\\Local\\\\Programs\\\\Python\\\\Python311\\\\python311.zip',\n",
       " 'c:\\\\Users\\\\moons\\\\AppData\\\\Local\\\\Programs\\\\Python\\\\Python311\\\\Lib',\n",
       " 'c:\\\\Users\\\\moons\\\\AppData\\\\Local\\\\Programs\\\\Python\\\\Python311\\\\DLLs',\n",
       " '',\n",
       " 'C:\\\\Users\\\\moons\\\\AppData\\\\Roaming\\\\Python\\\\Python311\\\\site-packages',\n",
       " 'C:\\\\Users\\\\moons\\\\AppData\\\\Roaming\\\\Python\\\\Python311\\\\site-packages\\\\win32',\n",
       " 'C:\\\\Users\\\\moons\\\\AppData\\\\Roaming\\\\Python\\\\Python311\\\\site-packages\\\\win32\\\\lib',\n",
       " 'C:\\\\Users\\\\moons\\\\AppData\\\\Roaming\\\\Python\\\\Python311\\\\site-packages\\\\Pythonwin',\n",
       " 'c:\\\\Users\\\\moons\\\\AppData\\\\Local\\\\Programs\\\\Python\\\\Python311',\n",
       " 'c:\\\\Users\\\\moons\\\\AppData\\\\Local\\\\Programs\\\\Python\\\\Python311\\\\Lib\\\\site-packages',\n",
       " 'C:\\\\Users\\\\moons\\\\Documents\\\\GitHub\\\\ubion_9\\\\python',\n",
       " 'C:\\\\Users\\\\moons\\\\Documents\\\\GitHub\\\\ubion_9\\\\python']"
      ]
     },
     "execution_count": 11,
     "metadata": {},
     "output_type": "execute_result"
    }
   ],
   "source": [
    "sys.path"
   ]
  },
  {
   "cell_type": "code",
   "execution_count": 12,
   "metadata": {},
   "outputs": [],
   "source": [
    "import pandas as pd\n",
    "from invest import Invest"
   ]
  },
  {
   "cell_type": "code",
   "execution_count": 13,
   "metadata": {},
   "outputs": [],
   "source": [
    "df = pd.read_csv('../../csv/SLV.csv')\n",
    "df2 = pd.read_csv('../../csv/BND.csv')"
   ]
  },
  {
   "cell_type": "code",
   "execution_count": 14,
   "metadata": {},
   "outputs": [],
   "source": [
    "test1 = Invest(df)\n",
    "test2 = Invest(df2, _start='2013-01-01')"
   ]
  },
  {
   "cell_type": "code",
   "execution_count": 15,
   "metadata": {},
   "outputs": [
    {
     "name": "stdout",
     "output_type": "stream",
     "text": [
      "바이앤홀드 누적 수익율은 0.8726057513539475입니다.\n"
     ]
    },
    {
     "name": "stderr",
     "output_type": "stream",
     "text": [
      "C:\\Users\\moons\\Documents\\GitHub\\ubion_9\\python\\invest\\quant\\buyandhold.py:29: FutureWarning: Series.__getitem__ treating keys as positions is deprecated. In a future version, integer keys will always be treated as labels (consistent with DataFrame behavior). To access a value by position, use `ser.iloc[pos]`\n",
      "  result = df['rtn'][-1]\n"
     ]
    },
    {
     "data": {
      "text/html": [
       "<div>\n",
       "<style scoped>\n",
       "    .dataframe tbody tr th:only-of-type {\n",
       "        vertical-align: middle;\n",
       "    }\n",
       "\n",
       "    .dataframe tbody tr th {\n",
       "        vertical-align: top;\n",
       "    }\n",
       "\n",
       "    .dataframe thead th {\n",
       "        text-align: right;\n",
       "    }\n",
       "</style>\n",
       "<table border=\"1\" class=\"dataframe\">\n",
       "  <thead>\n",
       "    <tr style=\"text-align: right;\">\n",
       "      <th></th>\n",
       "      <th>Adj Close</th>\n",
       "      <th>daily_rtn</th>\n",
       "      <th>rtn</th>\n",
       "    </tr>\n",
       "    <tr>\n",
       "      <th>Date</th>\n",
       "      <th></th>\n",
       "      <th></th>\n",
       "      <th></th>\n",
       "    </tr>\n",
       "  </thead>\n",
       "  <tbody>\n",
       "    <tr>\n",
       "      <th>2010-01-04</th>\n",
       "      <td>17.230000</td>\n",
       "      <td>0.041717</td>\n",
       "      <td>1.041717</td>\n",
       "    </tr>\n",
       "    <tr>\n",
       "      <th>2010-01-05</th>\n",
       "      <td>17.510000</td>\n",
       "      <td>0.016251</td>\n",
       "      <td>1.058646</td>\n",
       "    </tr>\n",
       "    <tr>\n",
       "      <th>2010-01-06</th>\n",
       "      <td>17.860001</td>\n",
       "      <td>0.019989</td>\n",
       "      <td>1.079807</td>\n",
       "    </tr>\n",
       "    <tr>\n",
       "      <th>2010-01-07</th>\n",
       "      <td>17.889999</td>\n",
       "      <td>0.001680</td>\n",
       "      <td>1.081620</td>\n",
       "    </tr>\n",
       "    <tr>\n",
       "      <th>2010-01-08</th>\n",
       "      <td>18.150000</td>\n",
       "      <td>0.014533</td>\n",
       "      <td>1.097340</td>\n",
       "    </tr>\n",
       "    <tr>\n",
       "      <th>...</th>\n",
       "      <td>...</td>\n",
       "      <td>...</td>\n",
       "      <td>...</td>\n",
       "    </tr>\n",
       "    <tr>\n",
       "      <th>2019-06-18</th>\n",
       "      <td>14.050000</td>\n",
       "      <td>0.010791</td>\n",
       "      <td>0.849456</td>\n",
       "    </tr>\n",
       "    <tr>\n",
       "      <th>2019-06-19</th>\n",
       "      <td>14.170000</td>\n",
       "      <td>0.008541</td>\n",
       "      <td>0.856711</td>\n",
       "    </tr>\n",
       "    <tr>\n",
       "      <th>2019-06-20</th>\n",
       "      <td>14.450000</td>\n",
       "      <td>0.019760</td>\n",
       "      <td>0.873640</td>\n",
       "    </tr>\n",
       "    <tr>\n",
       "      <th>2019-06-21</th>\n",
       "      <td>14.360000</td>\n",
       "      <td>-0.006228</td>\n",
       "      <td>0.868198</td>\n",
       "    </tr>\n",
       "    <tr>\n",
       "      <th>2019-06-24</th>\n",
       "      <td>14.432900</td>\n",
       "      <td>0.005077</td>\n",
       "      <td>0.872606</td>\n",
       "    </tr>\n",
       "  </tbody>\n",
       "</table>\n",
       "<p>2384 rows × 3 columns</p>\n",
       "</div>"
      ],
      "text/plain": [
       "            Adj Close  daily_rtn       rtn\n",
       "Date                                      \n",
       "2010-01-04  17.230000   0.041717  1.041717\n",
       "2010-01-05  17.510000   0.016251  1.058646\n",
       "2010-01-06  17.860001   0.019989  1.079807\n",
       "2010-01-07  17.889999   0.001680  1.081620\n",
       "2010-01-08  18.150000   0.014533  1.097340\n",
       "...               ...        ...       ...\n",
       "2019-06-18  14.050000   0.010791  0.849456\n",
       "2019-06-19  14.170000   0.008541  0.856711\n",
       "2019-06-20  14.450000   0.019760  0.873640\n",
       "2019-06-21  14.360000  -0.006228  0.868198\n",
       "2019-06-24  14.432900   0.005077  0.872606\n",
       "\n",
       "[2384 rows x 3 columns]"
      ]
     },
     "execution_count": 15,
     "metadata": {},
     "output_type": "execute_result"
    }
   ],
   "source": [
    "test1.BuyAndHold()"
   ]
  },
  {
   "cell_type": "code",
   "execution_count": 16,
   "metadata": {},
   "outputs": [
    {
     "ename": "AttributeError",
     "evalue": "'Invest' object has no attribute 'Bollinger'",
     "output_type": "error",
     "traceback": [
      "\u001b[1;31m---------------------------------------------------------------------------\u001b[0m",
      "\u001b[1;31mAttributeError\u001b[0m                            Traceback (most recent call last)",
      "\u001b[1;32mc:\\Users\\moons\\Documents\\GitHub\\ubion_9\\python\\231206\\01_invest_module.ipynb Cell 9\u001b[0m line \u001b[0;36m1\n\u001b[1;32m----> <a href='vscode-notebook-cell:/c%3A/Users/moons/Documents/GitHub/ubion_9/python/231206/01_invest_module.ipynb#X12sZmlsZQ%3D%3D?line=0'>1</a>\u001b[0m test1\u001b[39m.\u001b[39;49mBollinger()\n",
      "\u001b[1;31mAttributeError\u001b[0m: 'Invest' object has no attribute 'Bollinger'"
     ]
    }
   ],
   "source": [
    "test1.Bollinger()"
   ]
  },
  {
   "cell_type": "code",
   "execution_count": null,
   "metadata": {},
   "outputs": [],
   "source": []
  }
 ],
 "metadata": {
  "kernelspec": {
   "display_name": "Python 3",
   "language": "python",
   "name": "python3"
  },
  "language_info": {
   "codemirror_mode": {
    "name": "ipython",
    "version": 3
   },
   "file_extension": ".py",
   "mimetype": "text/x-python",
   "name": "python",
   "nbconvert_exporter": "python",
   "pygments_lexer": "ipython3",
   "version": "3.11.1"
  }
 },
 "nbformat": 4,
 "nbformat_minor": 2
}
