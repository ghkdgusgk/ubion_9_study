{
 "cells": [
  {
   "cell_type": "markdown",
   "metadata": {},
   "source": [
    "### 절대모멘텀\n",
    "- 주식 데이터를 로드 \n",
    "- 파생변수 'STD-YM' 생성 -> Date 컬럼의 년-월 추출하여 대입\n",
    "- 년-월 별 마지막 날의 데이터를 month_last_dt 데이터프레임에 대입\n",
    "- 전월의 수정주가 값을 가지는 파생변수를 생성\n",
    "- 전년도의 수정주가 값을 가지는 파생변수 생성\n",
    "- 전월, 전년도의 수정주가를 가지고 거래내역을 생성\n",
    "- 수익율 계산"
   ]
  },
  {
   "cell_type": "code",
   "execution_count": null,
   "metadata": {},
   "outputs": [],
   "source": [
    "import pandas as pd"
   ]
  },
  {
   "cell_type": "code",
   "execution_count": null,
   "metadata": {},
   "outputs": [],
   "source": [
    "df = pd.read_csv('../../csv/AMZN.csv', index_col='Date')"
   ]
  },
  {
   "cell_type": "code",
   "execution_count": null,
   "metadata": {},
   "outputs": [],
   "source": [
    "df.head()"
   ]
  },
  {
   "cell_type": "code",
   "execution_count": null,
   "metadata": {},
   "outputs": [],
   "source": [
    "# index를 시계열 변경 \n",
    "df.index = pd.to_datetime(df.index, format='%Y-%m-%d')\n"
   ]
  },
  {
   "cell_type": "code",
   "execution_count": null,
   "metadata": {},
   "outputs": [],
   "source": [
    "df['STD-YM'] = \"\""
   ]
  },
  {
   "cell_type": "code",
   "execution_count": null,
   "metadata": {},
   "outputs": [],
   "source": [
    "# STD-YM 컬럼을 생성 -> index에 있는 년-월 데이터를 추출\n",
    "for i in range(len(df.index)):\n",
    "    # i? -> 위치 값\n",
    "    df['STD-YM'][i] = df.index[i].strftime('%Y-%m')\n",
    "\n",
    "df.head()"
   ]
  },
  {
   "cell_type": "code",
   "execution_count": null,
   "metadata": {},
   "outputs": [],
   "source": [
    "df.drop('STD-YM', axis=1, inplace=True)"
   ]
  },
  {
   "cell_type": "code",
   "execution_count": null,
   "metadata": {},
   "outputs": [],
   "source": [
    "for i in df.index:\n",
    "    # i? index 값\n",
    "    df.loc[i, 'STD-YM'] = i.strftime('%Y-%m')\n",
    "\n",
    "df.head()"
   ]
  },
  {
   "cell_type": "code",
   "execution_count": null,
   "metadata": {},
   "outputs": [],
   "source": [
    "df.info()"
   ]
  },
  {
   "cell_type": "code",
   "execution_count": null,
   "metadata": {},
   "outputs": [],
   "source": [
    "df.drop('STD-YM', axis=1, inplace=True)"
   ]
  },
  {
   "cell_type": "code",
   "execution_count": null,
   "metadata": {},
   "outputs": [],
   "source": [
    "df['STD-YM'] = df.index.map(\n",
    "    lambda x : x.strftime('%Y-%m')\n",
    ")"
   ]
  },
  {
   "cell_type": "code",
   "execution_count": null,
   "metadata": {},
   "outputs": [],
   "source": [
    "df.head()"
   ]
  },
  {
   "cell_type": "code",
   "execution_count": null,
   "metadata": {},
   "outputs": [],
   "source": [
    "df2 = pd.read_csv('../../csv/AAPL.csv')\n",
    "df2.head()"
   ]
  },
  {
   "cell_type": "code",
   "execution_count": null,
   "metadata": {},
   "outputs": [],
   "source": [
    "from datetime import datetime"
   ]
  },
  {
   "cell_type": "code",
   "execution_count": null,
   "metadata": {},
   "outputs": [],
   "source": [
    "# '1980-12-12' -> 시계열데이터 변환 ( 시계열 1980-12-12 ) -> 문자열 변환 ( 1980-12 )\n",
    "df2['Date'].apply(\n",
    "    lambda x : datetime.strptime(x, '%Y-%m-%d').strftime('%Y-%m')\n",
    ")"
   ]
  },
  {
   "cell_type": "code",
   "execution_count": null,
   "metadata": {},
   "outputs": [],
   "source": [
    "df2['Date'] = pd.to_datetime(df2['Date'])"
   ]
  },
  {
   "cell_type": "code",
   "execution_count": null,
   "metadata": {},
   "outputs": [],
   "source": [
    "df2.info()"
   ]
  },
  {
   "cell_type": "code",
   "execution_count": null,
   "metadata": {},
   "outputs": [],
   "source": [
    "df2['Date'].dt.strftime('%Y-%m')"
   ]
  },
  {
   "cell_type": "code",
   "execution_count": null,
   "metadata": {},
   "outputs": [],
   "source": [
    "df.head()"
   ]
  },
  {
   "cell_type": "code",
   "execution_count": null,
   "metadata": {},
   "outputs": [],
   "source": [
    "# STD-YM 데이터에서 다음 행의 데이터와 오늘의 데이터가 다른경우 \n",
    "flag = df['STD-YM'].shift(-1) != df['STD-YM']\n",
    "df.loc[flag]"
   ]
  },
  {
   "cell_type": "code",
   "execution_count": null,
   "metadata": {},
   "outputs": [],
   "source": [
    "df.columns"
   ]
  },
  {
   "cell_type": "code",
   "execution_count": null,
   "metadata": {},
   "outputs": [],
   "source": [
    "test_df = pd.DataFrame()\n",
    "for i in range(len(df)-1):\n",
    "    if df.iloc[i, 6] != df.iloc[i+1, 6]:\n",
    "        data = df.iloc[[i]]\n",
    "        test_df = pd.concat([test_df, data], axis=0)\n",
    "\n",
    "test_df"
   ]
  },
  {
   "cell_type": "code",
   "execution_count": null,
   "metadata": {},
   "outputs": [],
   "source": [
    "# 반복문 -> STD-YM 데이터에서 중복된 데이터를 제거하고 고유의 데이터들만 생성\n",
    "list(\n",
    "    set(\n",
    "        df['STD-YM']\n",
    "    )\n",
    ")"
   ]
  },
  {
   "cell_type": "code",
   "execution_count": null,
   "metadata": {},
   "outputs": [],
   "source": [
    "ym_list = df['STD-YM'].unique()"
   ]
  },
  {
   "cell_type": "code",
   "execution_count": null,
   "metadata": {},
   "outputs": [],
   "source": [
    "ym_list[0]"
   ]
  },
  {
   "cell_type": "code",
   "execution_count": null,
   "metadata": {},
   "outputs": [],
   "source": [
    "df.loc[df['STD-YM'] == ym_list[0]].tail(1)"
   ]
  },
  {
   "cell_type": "code",
   "execution_count": null,
   "metadata": {},
   "outputs": [],
   "source": [
    "month_last_df = pd.DataFrame()\n",
    "\n",
    "for i in ym_list:\n",
    "    # print(i)\n",
    "    flag = df['STD-YM'] == i\n",
    "    data = df.loc[flag].tail(1)\n",
    "    month_last_df = pd.concat([month_last_df, data], axis=0)\n",
    "\n",
    "month_last_df"
   ]
  },
  {
   "cell_type": "code",
   "execution_count": null,
   "metadata": {},
   "outputs": [],
   "source": [
    "# month_last_df에 파생변수 2개 생성\n",
    "# 전월의 수정주가 (BF_1M)\n",
    "# 전년도의 수정주가 (BF_12M)\n",
    "# 결측치는 모두 0으로 대체\n",
    "\n",
    "month_last_df['BF_1M'] = month_last_df['Adj Close'].shift(1).fillna(0)"
   ]
  },
  {
   "cell_type": "code",
   "execution_count": null,
   "metadata": {},
   "outputs": [],
   "source": [
    "month_last_df['BF_12M'] = month_last_df['Adj Close'].shift(12).fillna(0)"
   ]
  },
  {
   "cell_type": "code",
   "execution_count": null,
   "metadata": {},
   "outputs": [],
   "source": [
    "month_last_df.iloc[[0, 1, 12]]"
   ]
  },
  {
   "cell_type": "markdown",
   "metadata": {},
   "source": [
    "## 거래 내역 생성\n",
    "- 매수 조건\n",
    "    - 전월의 수정주가 / 전년도의 수정주가 - 1  의 값이 0보다 크고 무한대가 아닌경우"
   ]
  },
  {
   "cell_type": "code",
   "execution_count": null,
   "metadata": {},
   "outputs": [],
   "source": [
    "import numpy as np"
   ]
  },
  {
   "cell_type": "code",
   "execution_count": null,
   "metadata": {},
   "outputs": [],
   "source": [
    "# df 데이터프레임에 trade 컬럼을 생성해서 \"\"대입\n",
    "df['trade'] = \"\"\n",
    "\n",
    "for i in month_last_df.index:\n",
    "    signal = \"\"\n",
    "\n",
    "    # 절대 모멘텀 계산식\n",
    "    momentum_index = month_last_df.loc[i, 'BF_1M'] / \\\n",
    "        month_last_df.loc[i, 'BF_12M'] - 1\n",
    "    # print(momentum_index)\n",
    "    flag = True if( (momentum_index > 0) & (momentum_index != np.inf)) else False\n",
    "\n",
    "    if flag:\n",
    "        signal = 'buy'\n",
    "    print(f'날짜 : {i}, 모멘텀 인덱스 : {momentum_index}, flag : {flag}, signal : {signal}')\n",
    "    df.loc[i:, 'trade'] = signal\n",
    "\n",
    "df['trade'].value_counts()"
   ]
  },
  {
   "cell_type": "code",
   "execution_count": null,
   "metadata": {},
   "outputs": [],
   "source": [
    "# df에 rtn 컬럼을 생성해서 1 데이터를 대입 \n",
    "df['rtn'] = 1\n",
    "# df.index 를 기준으로 하여 반복문을 실행 \n",
    "for i in df.index:\n",
    "    # 매수의 조건식을 지정 (전날의 trade가 '', 오늘의 trade가 'buy')\n",
    "    if (df.shift().loc[i, 'trade'] == '') & (df.loc[i, 'trade'] == 'buy'): \n",
    "        # buy 변수를 생성하여 해당하는 날짜의 수정주가를 대입\n",
    "        buy = df.loc[i, 'Adj Close']\n",
    "        # print를 이용하여 매수일과 매수가를 출력\n",
    "        print(f'매수일 : {i}, 매수가 : {buy}')\n",
    "    # 매도의 조건식을 지정 (전 날의 trade가 'buy, 오늘의 trade가 '')\n",
    "    elif (df.shift().loc[i, 'trade'] == 'buy') & (df.loc[i, 'trade'] == ''):\n",
    "        # sell 변수를 생성하여 해당하는 날짜의 수정주가를 대입 \n",
    "        sell = df.loc[i, 'Adj Close']\n",
    "        # rtn 변수를 생성하여 sell / buy 값을 대입 \n",
    "        rtn = sell / buy\n",
    "        # 해당하는 날짜의 rtn 컬럼에 rtn 데이터를 대입 \n",
    "        df.loc[i, 'rtn'] = rtn\n",
    "        # print를 이용하여 매도일과 매도가 수익율을 출력\n",
    "        print(f'매도일 : {i}, 매도가 : {sell}, 수익율 : {rtn}')\n"
   ]
  },
  {
   "cell_type": "code",
   "execution_count": null,
   "metadata": {},
   "outputs": [],
   "source": [
    "# 누적 수익율 계산\n",
    "df['acc_rtn'] = df['rtn'].cumprod()\n",
    "df['acc_rtn'][-1]"
   ]
  },
  {
   "cell_type": "markdown",
   "metadata": {},
   "source": [
    "### 절대 모멘텀을 함수화\n",
    "\n",
    "1. 첫번째 함수 (create_YM)\n",
    "    - 매개변수 2개 (데이터프레임, 기준이 되는 컬럼)\n",
    "    - 컬럼에 Date가 포함되어있다면 Date컬럼을 인덱스로 변환\n",
    "    - index를 시계열 데이터로 변경 \n",
    "    - 기준이 되는 컬럼을 제외한 나머지 컬럼을 모두 제거 \n",
    "    - 'STD-YM' 파생변수를 생성하여 index에서 년-월 추출하여 대입 \n",
    "    - 수정이 된 데이터프레임을 리턴\n",
    "\n",
    "2. 두번째 함수 (create_month_last())\n",
    "    - 매개변수 3개(데이터프레임, 모멘텀기간, 시작시간)\n",
    "    - 새로운 빈 데이터프레임을 생성 \n",
    "    - 입력받은 데이터프레임에서 년-월별 마지막 데이터들을 새로운 데이터프레임에 대입\n",
    "    - 파생변수(BF1)을 생성하여 전월의 주가를 대입 \n",
    "    - 파생변수(BF2)을 생성하여 모멘텀기간(6 -> 6개월 전) 전의 주가를 대입 \n",
    "    - 결측치는 0으로 대체\n",
    "    - 데이터프레임를 시작시간을 기준으로 마지막 데이터까지 필터링\n",
    "    - 위 과정에서 생성된 데이터프레임을 리턴 "
   ]
  },
  {
   "cell_type": "code",
   "execution_count": null,
   "metadata": {},
   "outputs": [],
   "source": [
    "# 첫번째 함수\n",
    "def create_ym(_df, _col = 'Adj Close'):\n",
    "    # Date 컬럼이 존재한다면 index로 변경\n",
    "    if 'Date' in _df.columns:\n",
    "        _df.set_index('Date', inplace=True)\n",
    "    # index를 시계열 데이터로 변경\n",
    "    _df.index = pd.to_datetime(_df.index)\n",
    "\n",
    "    # 기준이 되는 컬럼을 제외하고 모두 제거 \n",
    "    _df = _df[[_col]]\n",
    "\n",
    "    _df['STD-YM'] = _df.index.map(\n",
    "        lambda x : x.strftime('%Y-%m')\n",
    "    )\n",
    "\n",
    "    return _df"
   ]
  },
  {
   "cell_type": "code",
   "execution_count": null,
   "metadata": {},
   "outputs": [],
   "source": [
    "df = pd.read_csv('../../csv/AMZN.csv')"
   ]
  },
  {
   "cell_type": "code",
   "execution_count": null,
   "metadata": {},
   "outputs": [],
   "source": [
    "price_df = create_ym(df, 'Close')"
   ]
  },
  {
   "cell_type": "code",
   "execution_count": 85,
   "metadata": {},
   "outputs": [],
   "source": [
    "# 두번째 함수\n",
    "def create_month_last(_df, _momentum = 12, _start = '2010-01-01'):\n",
    "    result = pd.DataFrame()\n",
    "    ym_list = _df['STD-YM'].unique()\n",
    "    for i in ym_list:\n",
    "        flag = _df['STD-YM'] == i\n",
    "        data = _df.loc[flag].tail(1)\n",
    "        result = pd.concat([result, data], axis=0)\n",
    "    # result = _df.loc[_df.shift(-1)['STD-YM'] != _df['STD-YM']]\n",
    "    # 파생변수 생성 \n",
    "    # 전월의 데이터\n",
    "    # 기준이 되는 컬럼의 이름\n",
    "    col = _df.columns[0]\n",
    "    result['BF1'] = result.shift(1)[col].fillna(0)\n",
    "    result['BF2'] = result.shift(_momentum)[col].fillna(0)\n",
    "    # 시작 시간부터 마지막 데이터까지 필터링 \n",
    "    result = result.loc[_start:]\n",
    "    return result"
   ]
  },
  {
   "cell_type": "code",
   "execution_count": 88,
   "metadata": {},
   "outputs": [],
   "source": [
    "momentum_df = create_month_last(price_df)"
   ]
  },
  {
   "cell_type": "markdown",
   "metadata": {},
   "source": [
    "- 세번째 함수 \n",
    "    - 매개변수 3개 (1번함수의 결과(_df1), 2번 함수의 결과(_df2), 모멘텀 스코어)\n",
    "    - _df1에는 trade 컬럼을 생성 \"\" 대입\n",
    "    - _df1에는 rtn 컬럼을 생성 1 대입\n",
    "    - _df2를 이용하여 momentum_index를 구하고 df1에 거래 내역 대입\n",
    "    - 거래 내역을 기준으로 하여 수익율 계산\n",
    "    - rtn를 기준으로 누적 수익율 계산\n",
    "    - 최종 누적 수익율을 print를 이용하여 출력\n",
    "    - _df1를 리턴"
   ]
  },
  {
   "cell_type": "code",
   "execution_count": 91,
   "metadata": {},
   "outputs": [],
   "source": [
    "def create_trade(_df1, _df2, _score = 1):\n",
    "    _df1['trade'] = \"\"\n",
    "    _df1['rtn'] = 1\n",
    "\n",
    "    # momentum_index를 생성\n",
    "    for i in _df2.index:\n",
    "        signal = \"\"\n",
    "\n",
    "        # 절대 모멘텀을 계산\n",
    "        momentum_index = _df2.loc[i, 'BF1'] / _df2.loc[i, 'BF2'] - _score\n",
    "\n",
    "        # momentum_index가 0보다 크고 무한대가 아닐때 구매 조건\n",
    "        flag = (momentum_index > 0) & (momentum_index != np.inf)\n",
    "\n",
    "        if flag :\n",
    "            signal = 'buy'\n",
    "        # _df1의 trade에 signal 대입 \n",
    "        _df1.loc[i:, 'trade'] = signal\n",
    "        print(f'''날짜 : {i}, 모멘텀 인덱스 : , {momentum_index}, \n",
    "              flag : {flag}, signal : {signal}''')\n",
    "    return _df1"
   ]
  },
  {
   "cell_type": "code",
   "execution_count": 92,
   "metadata": {},
   "outputs": [
    {
     "name": "stdout",
     "output_type": "stream",
     "text": [
      "날짜 : 2010-01-29 00:00:00, 모멘텀 인덱스 : , 1.2869772866371982, \n",
      "              flag : True, signal : buy\n",
      "날짜 : 2010-02-26 00:00:00, 모멘텀 인덱스 : , 0.9356382476363905, \n",
      "              flag : True, signal : buy\n",
      "날짜 : 2010-03-31 00:00:00, 모멘텀 인덱스 : , 0.6122004190577226, \n",
      "              flag : True, signal : buy\n",
      "날짜 : 2010-04-30 00:00:00, 모멘텀 인덱스 : , 0.6861650404681461, \n",
      "              flag : True, signal : buy\n",
      "날짜 : 2010-05-28 00:00:00, 모멘텀 인덱스 : , 0.7579178037676062, \n",
      "              flag : True, signal : buy\n",
      "날짜 : 2010-06-30 00:00:00, 모멘텀 인덱스 : , 0.4996413220348399, \n",
      "              flag : True, signal : buy\n",
      "날짜 : 2010-07-30 00:00:00, 모멘텀 인덱스 : , 0.27402051599765587, \n",
      "              flag : True, signal : buy\n",
      "날짜 : 2010-08-31 00:00:00, 모멘텀 인덱스 : , 0.45202606350471575, \n",
      "              flag : True, signal : buy\n",
      "날짜 : 2010-09-30 00:00:00, 모멘텀 인덱스 : , 0.3370822693114581, \n",
      "              flag : True, signal : buy\n",
      "날짜 : 2010-10-29 00:00:00, 모멘텀 인덱스 : , 0.3219426028439123, \n",
      "              flag : True, signal : buy\n",
      "날짜 : 2010-11-30 00:00:00, 모멘텀 인덱스 : , 0.2157309332431483, \n",
      "              flag : True, signal : buy\n",
      "날짜 : 2010-12-31 00:00:00, 모멘텀 인덱스 : , 0.3038952481743904, \n",
      "              flag : True, signal : buy\n",
      "날짜 : 2011-01-31 00:00:00, 모멘텀 인덱스 : , 0.4352921956688558, \n",
      "              flag : True, signal : buy\n",
      "날짜 : 2011-02-28 00:00:00, 모멘텀 인덱스 : , 0.4327702376221243, \n",
      "              flag : True, signal : buy\n",
      "날짜 : 2011-03-31 00:00:00, 모멘텀 인덱스 : , 0.27634961990573426, \n",
      "              flag : True, signal : buy\n",
      "날짜 : 2011-04-29 00:00:00, 모멘텀 인덱스 : , 0.31385847641757225, \n",
      "              flag : True, signal : buy\n",
      "날짜 : 2011-05-31 00:00:00, 모멘텀 인덱스 : , 0.5607364862166149, \n",
      "              flag : True, signal : buy\n",
      "날짜 : 2011-06-30 00:00:00, 모멘텀 인덱스 : , 0.8002013399194337, \n",
      "              flag : True, signal : buy\n",
      "날짜 : 2011-07-29 00:00:00, 모멘텀 인덱스 : , 0.734583143053551, \n",
      "              flag : True, signal : buy\n",
      "날짜 : 2011-08-31 00:00:00, 모멘텀 인덱스 : , 0.7825843181513368, \n",
      "              flag : True, signal : buy\n",
      "날짜 : 2011-09-30 00:00:00, 모멘텀 인덱스 : , 0.37036800420690175, \n",
      "              flag : True, signal : buy\n",
      "날짜 : 2011-10-31 00:00:00, 모멘텀 인덱스 : , 0.3086606623170287, \n",
      "              flag : True, signal : buy\n",
      "날짜 : 2011-11-30 00:00:00, 모멘텀 인덱스 : , 0.2172748135897884, \n",
      "              flag : True, signal : buy\n",
      "날짜 : 2011-12-30 00:00:00, 모멘텀 인덱스 : , 0.06827773888888888, \n",
      "              flag : True, signal : buy\n",
      "날짜 : 2012-01-31 00:00:00, 모멘텀 인덱스 : , 0.02039617437158814, \n",
      "              flag : True, signal : buy\n",
      "날짜 : 2012-02-29 00:00:00, 모멘텀 인덱스 : , 0.12204980007125954, \n",
      "              flag : True, signal : buy\n",
      "날짜 : 2012-03-30 00:00:00, 모멘텀 인덱스 : , -0.0024426968732944587, \n",
      "              flag : False, signal : \n",
      "날짜 : 2012-04-30 00:00:00, 모멘텀 인덱스 : , 0.034216827886388135, \n",
      "              flag : True, signal : buy\n",
      "날짜 : 2012-05-31 00:00:00, 모멘텀 인덱스 : , 0.1790126170215811, \n",
      "              flag : True, signal : buy\n",
      "날짜 : 2012-06-29 00:00:00, 모멘텀 인덱스 : , 0.041175601712171606, \n",
      "              flag : True, signal : buy\n",
      "날짜 : 2012-07-31 00:00:00, 모멘텀 인덱스 : , 0.02619990066151545, \n",
      "              flag : True, signal : buy\n",
      "날짜 : 2012-08-31 00:00:00, 모멘텀 인덱스 : , 0.08395673157007355, \n",
      "              flag : True, signal : buy\n",
      "날짜 : 2012-09-28 00:00:00, 모멘텀 인덱스 : , 0.1481755935471598, \n",
      "              flag : True, signal : buy\n",
      "날짜 : 2012-10-31 00:00:00, 모멘텀 인덱스 : , 0.19113864903607913, \n",
      "              flag : True, signal : buy\n",
      "날짜 : 2012-11-30 00:00:00, 모멘텀 인덱스 : , 0.21113946371613834, \n",
      "              flag : True, signal : buy\n",
      "날짜 : 2012-12-31 00:00:00, 모멘텀 인덱스 : , 0.45609470978296796, \n",
      "              flag : True, signal : buy\n",
      "날짜 : 2013-01-31 00:00:00, 모멘텀 인덱스 : , 0.29021802314114353, \n",
      "              flag : True, signal : buy\n",
      "날짜 : 2013-02-28 00:00:00, 모멘텀 인덱스 : , 0.47754464380271977, \n",
      "              flag : True, signal : buy\n",
      "날짜 : 2013-03-28 00:00:00, 모멘텀 인덱스 : , 0.3049725718476266, \n",
      "              flag : True, signal : buy\n",
      "날짜 : 2013-04-30 00:00:00, 모멘텀 인덱스 : , 0.14915910692089107, \n",
      "              flag : True, signal : buy\n",
      "날짜 : 2013-05-31 00:00:00, 모멘텀 인덱스 : , 0.1920999165450208, \n",
      "              flag : True, signal : buy\n",
      "날짜 : 2013-06-28 00:00:00, 모멘텀 인덱스 : , 0.17889207325004408, \n",
      "              flag : True, signal : buy\n",
      "날짜 : 2013-07-31 00:00:00, 모멘텀 인덱스 : , 0.19027003184393432, \n",
      "              flag : True, signal : buy\n",
      "날짜 : 2013-08-30 00:00:00, 모멘텀 인덱스 : , 0.21327585349376332, \n",
      "              flag : True, signal : buy\n",
      "날짜 : 2013-09-30 00:00:00, 모멘텀 인덱스 : , 0.10482857528389422, \n",
      "              flag : True, signal : buy\n",
      "날짜 : 2013-10-31 00:00:00, 모멘텀 인덱스 : , 0.3424364135103972, \n",
      "              flag : True, signal : buy\n",
      "날짜 : 2013-11-29 00:00:00, 모멘텀 인덱스 : , 0.4442769080228892, \n",
      "              flag : True, signal : buy\n",
      "날짜 : 2013-12-31 00:00:00, 모멘텀 인덱스 : , 0.56901982239845, \n",
      "              flag : True, signal : buy\n",
      "날짜 : 2014-01-31 00:00:00, 모멘텀 인덱스 : , 0.5020339322033898, \n",
      "              flag : True, signal : buy\n",
      "날짜 : 2014-02-28 00:00:00, 모멘텀 인덱스 : , 0.3572861729676009, \n",
      "              flag : True, signal : buy\n",
      "날짜 : 2014-03-31 00:00:00, 모멘텀 인덱스 : , 0.3587752620651907, \n",
      "              flag : True, signal : buy\n",
      "날짜 : 2014-04-30 00:00:00, 모멘텀 인덱스 : , 0.32528268252064674, \n",
      "              flag : True, signal : buy\n",
      "날짜 : 2014-05-30 00:00:00, 모멘텀 인덱스 : , 0.12975479733633888, \n",
      "              flag : True, signal : buy\n",
      "날짜 : 2014-06-30 00:00:00, 모멘텀 인덱스 : , 0.1255356179514162, \n",
      "              flag : True, signal : buy\n",
      "날짜 : 2014-07-31 00:00:00, 모멘텀 인덱스 : , 0.07821525105167226, \n",
      "              flag : True, signal : buy\n",
      "날짜 : 2014-08-29 00:00:00, 모멘텀 인덱스 : , 0.11392261992615538, \n",
      "              flag : True, signal : buy\n",
      "날짜 : 2014-09-30 00:00:00, 모멘텀 인덱스 : , 0.08444214666507088, \n",
      "              flag : True, signal : buy\n",
      "날짜 : 2014-10-31 00:00:00, 모멘텀 인덱스 : , -0.11424881771900341, \n",
      "              flag : False, signal : \n",
      "날짜 : 2014-11-28 00:00:00, 모멘텀 인덱스 : , -0.22397237213521126, \n",
      "              flag : False, signal : \n",
      "날짜 : 2014-12-31 00:00:00, 모멘텀 인덱스 : , -0.15083124612582754, \n",
      "              flag : False, signal : \n",
      "날짜 : 2015-01-30 00:00:00, 모멘텀 인덱스 : , -0.1347681723227958, \n",
      "              flag : False, signal : \n",
      "날짜 : 2015-02-27 00:00:00, 모멘텀 인덱스 : , -0.02090584610484658, \n",
      "              flag : False, signal : \n",
      "날짜 : 2015-03-31 00:00:00, 모멘텀 인덱스 : , 0.13018405223688267, \n",
      "              flag : True, signal : buy\n",
      "날짜 : 2015-04-30 00:00:00, 모멘텀 인덱스 : , 0.22348995456729104, \n",
      "              flag : True, signal : buy\n",
      "날짜 : 2015-05-29 00:00:00, 모멘텀 인덱스 : , 0.3494801317989493, \n",
      "              flag : True, signal : buy\n",
      "날짜 : 2015-06-30 00:00:00, 모멘텀 인덱스 : , 0.32160235335181464, \n",
      "              flag : True, signal : buy\n",
      "날짜 : 2015-07-31 00:00:00, 모멘텀 인덱스 : , 0.3869133514461598, \n",
      "              flag : True, signal : buy\n",
      "날짜 : 2015-08-31 00:00:00, 모멘텀 인덱스 : , 0.5813768575023841, \n",
      "              flag : True, signal : buy\n",
      "날짜 : 2015-09-30 00:00:00, 모멘텀 인덱스 : , 0.5906525611546174, \n",
      "              flag : True, signal : buy\n",
      "날짜 : 2015-10-30 00:00:00, 모멘텀 인덱스 : , 0.6758005306167902, \n",
      "              flag : True, signal : buy\n",
      "날짜 : 2015-11-30 00:00:00, 모멘텀 인덱스 : , 0.8482754437628997, \n",
      "              flag : True, signal : buy\n",
      "날짜 : 2015-12-31 00:00:00, 모멘텀 인덱스 : , 1.1420975516269203, \n",
      "              flag : True, signal : buy\n",
      "날짜 : 2016-01-29 00:00:00, 모멘텀 인덱스 : , 0.9064395591527925, \n",
      "              flag : True, signal : buy\n",
      "날짜 : 2016-02-29 00:00:00, 모멘텀 인덱스 : , 0.5440866840899969, \n",
      "              flag : True, signal : buy\n",
      "날짜 : 2016-03-31 00:00:00, 모멘텀 인덱스 : , 0.48486968849981693, \n",
      "              flag : True, signal : buy\n",
      "날짜 : 2016-04-29 00:00:00, 모멘텀 인덱스 : , 0.4074636455200902, \n",
      "              flag : True, signal : buy\n",
      "날짜 : 2016-05-31 00:00:00, 모멘텀 인덱스 : , 0.5366819889022159, \n",
      "              flag : True, signal : buy\n",
      "날짜 : 2016-06-30 00:00:00, 모멘텀 인덱스 : , 0.665069420305185, \n",
      "              flag : True, signal : buy\n",
      "날짜 : 2016-07-29 00:00:00, 모멘텀 인덱스 : , 0.3347383436841924, \n",
      "              flag : True, signal : buy\n",
      "날짜 : 2016-08-31 00:00:00, 모멘텀 인덱스 : , 0.479478983422986, \n",
      "              flag : True, signal : buy\n",
      "날짜 : 2016-09-30 00:00:00, 모멘텀 인덱스 : , 0.5025883499602937, \n",
      "              flag : True, signal : buy\n",
      "날짜 : 2016-10-31 00:00:00, 모멘텀 인덱스 : , 0.33776955726718416, \n",
      "              flag : True, signal : buy\n",
      "날짜 : 2016-11-30 00:00:00, 모멘텀 인덱스 : , 0.18805659033796496, \n",
      "              flag : True, signal : buy\n",
      "날짜 : 2016-12-30 00:00:00, 모멘텀 인덱스 : , 0.11049133785472498, \n",
      "              flag : True, signal : buy\n",
      "날짜 : 2017-01-31 00:00:00, 모멘텀 인덱스 : , 0.2774616609880749, \n",
      "              flag : True, signal : buy\n",
      "날짜 : 2017-02-28 00:00:00, 모멘텀 인덱스 : , 0.49040749690843755, \n",
      "              flag : True, signal : buy\n",
      "날짜 : 2017-03-31 00:00:00, 모멘텀 인덱스 : , 0.423488910194169, \n",
      "              flag : True, signal : buy\n",
      "날짜 : 2017-04-28 00:00:00, 모멘텀 인덱스 : , 0.34407729303038725, \n",
      "              flag : True, signal : buy\n",
      "날짜 : 2017-05-31 00:00:00, 모멘텀 인덱스 : , 0.2797493298945548, \n",
      "              flag : True, signal : buy\n",
      "날짜 : 2017-06-30 00:00:00, 모멘텀 인덱스 : , 0.38987172235174894, \n",
      "              flag : True, signal : buy\n",
      "날짜 : 2017-07-31 00:00:00, 모멘텀 인덱스 : , 0.2756816628027614, \n",
      "              flag : True, signal : buy\n",
      "날짜 : 2017-08-31 00:00:00, 모멘텀 인덱스 : , 0.2842322321419084, \n",
      "              flag : True, signal : buy\n",
      "날짜 : 2017-09-29 00:00:00, 모멘텀 인덱스 : , 0.1711313352787649, \n",
      "              flag : True, signal : buy\n",
      "날짜 : 2017-10-31 00:00:00, 모멘텀 인덱스 : , 0.21717602425839777, \n",
      "              flag : True, signal : buy\n",
      "날짜 : 2017-11-30 00:00:00, 모멘텀 인덱스 : , 0.4725875250701297, \n",
      "              flag : True, signal : buy\n",
      "날짜 : 2017-12-29 00:00:00, 모멘텀 인덱스 : , 0.5692720176115327, \n",
      "              flag : True, signal : buy\n",
      "날짜 : 2018-01-31 00:00:00, 모멘텀 인덱스 : , 0.42015592291630455, \n",
      "              flag : True, signal : buy\n",
      "날짜 : 2018-02-28 00:00:00, 모멘텀 인덱스 : , 0.7169483725893024, \n",
      "              flag : True, signal : buy\n",
      "날짜 : 2018-03-29 00:00:00, 모멘텀 인덱스 : , 0.7060143800982657, \n",
      "              flag : True, signal : buy\n",
      "날짜 : 2018-04-30 00:00:00, 모멘텀 인덱스 : , 0.5647087878215848, \n",
      "              flag : True, signal : buy\n",
      "날짜 : 2018-05-31 00:00:00, 모멘텀 인덱스 : , 0.5746013682341062, \n",
      "              flag : True, signal : buy\n",
      "날짜 : 2018-06-29 00:00:00, 모멘텀 인덱스 : , 0.6834917303719008, \n",
      "              flag : True, signal : buy\n",
      "날짜 : 2018-07-31 00:00:00, 모멘텀 인덱스 : , 0.7208285236550374, \n",
      "              flag : True, signal : buy\n",
      "날짜 : 2018-08-31 00:00:00, 모멘텀 인덱스 : , 0.812604512036007, \n",
      "              flag : True, signal : buy\n",
      "날짜 : 2018-09-28 00:00:00, 모멘텀 인덱스 : , 1.0936287629345092, \n",
      "              flag : True, signal : buy\n",
      "날짜 : 2018-10-31 00:00:00, 모멘텀 인덱스 : , 0.812210433053975, \n",
      "              flag : True, signal : buy\n",
      "날짜 : 2018-11-30 00:00:00, 모멘텀 인덱스 : , 0.3579859868281283, \n",
      "              flag : True, signal : buy\n",
      "날짜 : 2018-12-31 00:00:00, 모멘텀 인덱스 : , 0.44524450042505626, \n",
      "              flag : True, signal : buy\n",
      "날짜 : 2019-01-31 00:00:00, 모멘텀 인덱스 : , 0.03520594633081142, \n",
      "              flag : True, signal : buy\n",
      "날짜 : 2019-02-28 00:00:00, 모멘텀 인덱스 : , 0.13638800336078027, \n",
      "              flag : True, signal : buy\n",
      "날짜 : 2019-03-29 00:00:00, 모멘텀 인덱스 : , 0.13299569867609118, \n",
      "              flag : True, signal : buy\n",
      "날짜 : 2019-04-30 00:00:00, 모멘텀 인덱스 : , 0.13703842868395855, \n",
      "              flag : True, signal : buy\n",
      "날짜 : 2019-05-31 00:00:00, 모멘텀 인덱스 : , 0.18218972883920692, \n",
      "              flag : True, signal : buy\n",
      "날짜 : 2019-06-24 00:00:00, 모멘텀 인덱스 : , 0.04428161832580346, \n",
      "              flag : True, signal : buy\n"
     ]
    },
    {
     "name": "stderr",
     "output_type": "stream",
     "text": [
      "C:\\Users\\moons\\AppData\\Local\\Temp\\ipykernel_3572\\472568089.py:2: SettingWithCopyWarning: \n",
      "A value is trying to be set on a copy of a slice from a DataFrame.\n",
      "Try using .loc[row_indexer,col_indexer] = value instead\n",
      "\n",
      "See the caveats in the documentation: https://pandas.pydata.org/pandas-docs/stable/user_guide/indexing.html#returning-a-view-versus-a-copy\n",
      "  _df1['trade'] = \"\"\n",
      "C:\\Users\\moons\\AppData\\Local\\Temp\\ipykernel_3572\\472568089.py:3: SettingWithCopyWarning: \n",
      "A value is trying to be set on a copy of a slice from a DataFrame.\n",
      "Try using .loc[row_indexer,col_indexer] = value instead\n",
      "\n",
      "See the caveats in the documentation: https://pandas.pydata.org/pandas-docs/stable/user_guide/indexing.html#returning-a-view-versus-a-copy\n",
      "  _df1['rtn'] = 1\n"
     ]
    }
   ],
   "source": [
    "price_df2 = create_trade(price_df, momentum_df)"
   ]
  },
  {
   "cell_type": "code",
   "execution_count": 95,
   "metadata": {},
   "outputs": [
    {
     "data": {
      "text/html": [
       "<div>\n",
       "<style scoped>\n",
       "    .dataframe tbody tr th:only-of-type {\n",
       "        vertical-align: middle;\n",
       "    }\n",
       "\n",
       "    .dataframe tbody tr th {\n",
       "        vertical-align: top;\n",
       "    }\n",
       "\n",
       "    .dataframe thead th {\n",
       "        text-align: right;\n",
       "    }\n",
       "</style>\n",
       "<table border=\"1\" class=\"dataframe\">\n",
       "  <thead>\n",
       "    <tr style=\"text-align: right;\">\n",
       "      <th></th>\n",
       "      <th>Close</th>\n",
       "      <th>STD-YM</th>\n",
       "      <th>trade</th>\n",
       "      <th>rtn</th>\n",
       "      <th>acc_rtn</th>\n",
       "    </tr>\n",
       "    <tr>\n",
       "      <th>Date</th>\n",
       "      <th></th>\n",
       "      <th></th>\n",
       "      <th></th>\n",
       "      <th></th>\n",
       "      <th></th>\n",
       "    </tr>\n",
       "  </thead>\n",
       "  <tbody>\n",
       "    <tr>\n",
       "      <th>1997-05-15</th>\n",
       "      <td>1.958333</td>\n",
       "      <td>1997-05</td>\n",
       "      <td></td>\n",
       "      <td>1</td>\n",
       "      <td>1</td>\n",
       "    </tr>\n",
       "    <tr>\n",
       "      <th>2010-01-29</th>\n",
       "      <td>125.410004</td>\n",
       "      <td>2010-01</td>\n",
       "      <td>buy</td>\n",
       "      <td>1</td>\n",
       "      <td>1</td>\n",
       "    </tr>\n",
       "    <tr>\n",
       "      <th>2012-03-30</th>\n",
       "      <td>202.509995</td>\n",
       "      <td>2012-03</td>\n",
       "      <td></td>\n",
       "      <td>1</td>\n",
       "      <td>1</td>\n",
       "    </tr>\n",
       "    <tr>\n",
       "      <th>2012-04-30</th>\n",
       "      <td>231.899994</td>\n",
       "      <td>2012-04</td>\n",
       "      <td>buy</td>\n",
       "      <td>1</td>\n",
       "      <td>1</td>\n",
       "    </tr>\n",
       "    <tr>\n",
       "      <th>2014-10-31</th>\n",
       "      <td>305.459991</td>\n",
       "      <td>2014-10</td>\n",
       "      <td></td>\n",
       "      <td>1</td>\n",
       "      <td>1</td>\n",
       "    </tr>\n",
       "    <tr>\n",
       "      <th>2015-03-31</th>\n",
       "      <td>372.100006</td>\n",
       "      <td>2015-03</td>\n",
       "      <td>buy</td>\n",
       "      <td>1</td>\n",
       "      <td>1</td>\n",
       "    </tr>\n",
       "  </tbody>\n",
       "</table>\n",
       "</div>"
      ],
      "text/plain": [
       "                 Close   STD-YM trade  rtn  acc_rtn\n",
       "Date                                               \n",
       "1997-05-15    1.958333  1997-05          1        1\n",
       "2010-01-29  125.410004  2010-01   buy    1        1\n",
       "2012-03-30  202.509995  2012-03          1        1\n",
       "2012-04-30  231.899994  2012-04   buy    1        1\n",
       "2014-10-31  305.459991  2014-10          1        1\n",
       "2015-03-31  372.100006  2015-03   buy    1        1"
      ]
     },
     "execution_count": 95,
     "metadata": {},
     "output_type": "execute_result"
    }
   ],
   "source": [
    "price_df2.loc[price_df2.shift()['trade'] != price_df2['trade']]"
   ]
  },
  {
   "cell_type": "code",
   "execution_count": 97,
   "metadata": {},
   "outputs": [
    {
     "data": {
      "text/plain": [
       "Date\n",
       "1997-05-15    False\n",
       "1997-05-16    False\n",
       "1997-05-19    False\n",
       "1997-05-20    False\n",
       "1997-05-21    False\n",
       "              ...  \n",
       "2019-06-18     True\n",
       "2019-06-19     True\n",
       "2019-06-20     True\n",
       "2019-06-21     True\n",
       "2019-06-24     True\n",
       "Name: trade, Length: 5563, dtype: bool"
      ]
     },
     "execution_count": 97,
     "metadata": {},
     "output_type": "execute_result"
    }
   ],
   "source": [
    "price_df2['trade'] == \"buy\""
   ]
  },
  {
   "cell_type": "code",
   "execution_count": 98,
   "metadata": {},
   "outputs": [],
   "source": [
    "# 네번째 함수 \n",
    "def create_rtn(_df):\n",
    "    col = _df.columns[0]\n",
    "\n",
    "    for i in _df.index:\n",
    "        # 구매한 날 조건식 \n",
    "        if (_df.shift().loc[i, 'trade'] == '') & (_df.loc[i, 'trade'] == 'buy'):\n",
    "            buy = _df.loc[i, col]\n",
    "            print(f'매수일 : {i}, 매수가 : {buy}')\n",
    "        # 판매한 날 조건식\n",
    "        elif (_df.shift().loc[i, 'trade'] == 'buy') & (_df.loc[i, 'trade'] == ''):\n",
    "            sell = _df.loc[i, col]\n",
    "            rtn = sell / buy\n",
    "            _df.loc[i, 'rtn'] = rtn\n",
    "            print(f'매도일 : {i}, 매도가 : {sell}, 수익율 : {rtn}')\n",
    "\n",
    "    # 누적수익율 계산\n",
    "    _df['acc_rtn'] = _df['rtn'].cumprod()\n",
    "\n",
    "    print(_df['acc_rtn'].iloc[-1])\n",
    "    return _df"
   ]
  },
  {
   "cell_type": "code",
   "execution_count": 99,
   "metadata": {},
   "outputs": [
    {
     "name": "stdout",
     "output_type": "stream",
     "text": [
      "매수일 : 2010-01-29 00:00:00, 매수가 : 125.410004\n"
     ]
    },
    {
     "name": "stderr",
     "output_type": "stream",
     "text": [
      "C:\\Users\\moons\\AppData\\Local\\Temp\\ipykernel_3572\\1291965725.py:14: FutureWarning: Setting an item of incompatible dtype is deprecated and will raise in a future error of pandas. Value '1.6147834187135501' has dtype incompatible with int64, please explicitly cast to a compatible dtype first.\n",
      "  _df.loc[i, 'rtn'] = rtn\n"
     ]
    },
    {
     "name": "stdout",
     "output_type": "stream",
     "text": [
      "매도일 : 2012-03-30 00:00:00, 매도가 : 202.509995, 수익율 : 1.6147834187135501\n",
      "매수일 : 2012-04-30 00:00:00, 매수가 : 231.899994\n",
      "매도일 : 2014-10-31 00:00:00, 매도가 : 305.459991, 수익율 : 1.31720568737919\n",
      "매수일 : 2015-03-31 00:00:00, 매수가 : 372.100006\n",
      "2.1270019030151\n"
     ]
    },
    {
     "name": "stderr",
     "output_type": "stream",
     "text": [
      "C:\\Users\\moons\\AppData\\Local\\Temp\\ipykernel_3572\\1291965725.py:18: SettingWithCopyWarning: \n",
      "A value is trying to be set on a copy of a slice from a DataFrame.\n",
      "Try using .loc[row_indexer,col_indexer] = value instead\n",
      "\n",
      "See the caveats in the documentation: https://pandas.pydata.org/pandas-docs/stable/user_guide/indexing.html#returning-a-view-versus-a-copy\n",
      "  _df['acc_rtn'] = _df['rtn'].cumprod()\n"
     ]
    },
    {
     "data": {
      "text/html": [
       "<div>\n",
       "<style scoped>\n",
       "    .dataframe tbody tr th:only-of-type {\n",
       "        vertical-align: middle;\n",
       "    }\n",
       "\n",
       "    .dataframe tbody tr th {\n",
       "        vertical-align: top;\n",
       "    }\n",
       "\n",
       "    .dataframe thead th {\n",
       "        text-align: right;\n",
       "    }\n",
       "</style>\n",
       "<table border=\"1\" class=\"dataframe\">\n",
       "  <thead>\n",
       "    <tr style=\"text-align: right;\">\n",
       "      <th></th>\n",
       "      <th>Close</th>\n",
       "      <th>STD-YM</th>\n",
       "      <th>trade</th>\n",
       "      <th>rtn</th>\n",
       "      <th>acc_rtn</th>\n",
       "    </tr>\n",
       "    <tr>\n",
       "      <th>Date</th>\n",
       "      <th></th>\n",
       "      <th></th>\n",
       "      <th></th>\n",
       "      <th></th>\n",
       "      <th></th>\n",
       "    </tr>\n",
       "  </thead>\n",
       "  <tbody>\n",
       "    <tr>\n",
       "      <th>1997-05-15</th>\n",
       "      <td>1.958333</td>\n",
       "      <td>1997-05</td>\n",
       "      <td></td>\n",
       "      <td>1.0</td>\n",
       "      <td>1.000000</td>\n",
       "    </tr>\n",
       "    <tr>\n",
       "      <th>1997-05-16</th>\n",
       "      <td>1.729167</td>\n",
       "      <td>1997-05</td>\n",
       "      <td></td>\n",
       "      <td>1.0</td>\n",
       "      <td>1.000000</td>\n",
       "    </tr>\n",
       "    <tr>\n",
       "      <th>1997-05-19</th>\n",
       "      <td>1.708333</td>\n",
       "      <td>1997-05</td>\n",
       "      <td></td>\n",
       "      <td>1.0</td>\n",
       "      <td>1.000000</td>\n",
       "    </tr>\n",
       "    <tr>\n",
       "      <th>1997-05-20</th>\n",
       "      <td>1.635417</td>\n",
       "      <td>1997-05</td>\n",
       "      <td></td>\n",
       "      <td>1.0</td>\n",
       "      <td>1.000000</td>\n",
       "    </tr>\n",
       "    <tr>\n",
       "      <th>1997-05-21</th>\n",
       "      <td>1.427083</td>\n",
       "      <td>1997-05</td>\n",
       "      <td></td>\n",
       "      <td>1.0</td>\n",
       "      <td>1.000000</td>\n",
       "    </tr>\n",
       "    <tr>\n",
       "      <th>...</th>\n",
       "      <td>...</td>\n",
       "      <td>...</td>\n",
       "      <td>...</td>\n",
       "      <td>...</td>\n",
       "      <td>...</td>\n",
       "    </tr>\n",
       "    <tr>\n",
       "      <th>2019-06-18</th>\n",
       "      <td>1901.369995</td>\n",
       "      <td>2019-06</td>\n",
       "      <td>buy</td>\n",
       "      <td>1.0</td>\n",
       "      <td>2.127002</td>\n",
       "    </tr>\n",
       "    <tr>\n",
       "      <th>2019-06-19</th>\n",
       "      <td>1908.790039</td>\n",
       "      <td>2019-06</td>\n",
       "      <td>buy</td>\n",
       "      <td>1.0</td>\n",
       "      <td>2.127002</td>\n",
       "    </tr>\n",
       "    <tr>\n",
       "      <th>2019-06-20</th>\n",
       "      <td>1918.189941</td>\n",
       "      <td>2019-06</td>\n",
       "      <td>buy</td>\n",
       "      <td>1.0</td>\n",
       "      <td>2.127002</td>\n",
       "    </tr>\n",
       "    <tr>\n",
       "      <th>2019-06-21</th>\n",
       "      <td>1911.300049</td>\n",
       "      <td>2019-06</td>\n",
       "      <td>buy</td>\n",
       "      <td>1.0</td>\n",
       "      <td>2.127002</td>\n",
       "    </tr>\n",
       "    <tr>\n",
       "      <th>2019-06-24</th>\n",
       "      <td>1907.953857</td>\n",
       "      <td>2019-06</td>\n",
       "      <td>buy</td>\n",
       "      <td>1.0</td>\n",
       "      <td>2.127002</td>\n",
       "    </tr>\n",
       "  </tbody>\n",
       "</table>\n",
       "<p>5563 rows × 5 columns</p>\n",
       "</div>"
      ],
      "text/plain": [
       "                  Close   STD-YM trade  rtn   acc_rtn\n",
       "Date                                                 \n",
       "1997-05-15     1.958333  1997-05        1.0  1.000000\n",
       "1997-05-16     1.729167  1997-05        1.0  1.000000\n",
       "1997-05-19     1.708333  1997-05        1.0  1.000000\n",
       "1997-05-20     1.635417  1997-05        1.0  1.000000\n",
       "1997-05-21     1.427083  1997-05        1.0  1.000000\n",
       "...                 ...      ...   ...  ...       ...\n",
       "2019-06-18  1901.369995  2019-06   buy  1.0  2.127002\n",
       "2019-06-19  1908.790039  2019-06   buy  1.0  2.127002\n",
       "2019-06-20  1918.189941  2019-06   buy  1.0  2.127002\n",
       "2019-06-21  1911.300049  2019-06   buy  1.0  2.127002\n",
       "2019-06-24  1907.953857  2019-06   buy  1.0  2.127002\n",
       "\n",
       "[5563 rows x 5 columns]"
      ]
     },
     "execution_count": 99,
     "metadata": {},
     "output_type": "execute_result"
    }
   ],
   "source": [
    "create_rtn(price_df2)"
   ]
  }
 ],
 "metadata": {
  "kernelspec": {
   "display_name": "Python 3",
   "language": "python",
   "name": "python3"
  },
  "language_info": {
   "codemirror_mode": {
    "name": "ipython",
    "version": 3
   },
   "file_extension": ".py",
   "mimetype": "text/x-python",
   "name": "python",
   "nbconvert_exporter": "python",
   "pygments_lexer": "ipython3",
   "version": "3.11.1"
  }
 },
 "nbformat": 4,
 "nbformat_minor": 2
}
