{
 "cells": [
  {
   "cell_type": "markdown",
   "metadata": {},
   "source": [
    "### Buy and Hold \n",
    "1. 매수 후 일정 기간이 지나면 매도"
   ]
  },
  {
   "cell_type": "code",
   "execution_count": null,
   "metadata": {},
   "outputs": [],
   "source": [
    "import pandas as pd\n",
    "import numpy as np"
   ]
  },
  {
   "cell_type": "code",
   "execution_count": null,
   "metadata": {},
   "outputs": [],
   "source": [
    "# csv 폴더 안에 있는 AAPL.csv\n",
    "df = pd.read_csv('../../csv/AAPL.csv')\n",
    "df"
   ]
  },
  {
   "cell_type": "code",
   "execution_count": null,
   "metadata": {},
   "outputs": [],
   "source": [
    "# 인덱스를 컬럼의 데이터로 변경 \n",
    "df.set_index('Date')"
   ]
  },
  {
   "cell_type": "code",
   "execution_count": null,
   "metadata": {},
   "outputs": [],
   "source": [
    "df2 = pd.read_csv('../../csv/AAPL.csv', index_col='Date')\n",
    "df2.head()"
   ]
  },
  {
   "cell_type": "code",
   "execution_count": null,
   "metadata": {},
   "outputs": [],
   "source": [
    "df2.info()"
   ]
  },
  {
   "cell_type": "code",
   "execution_count": null,
   "metadata": {},
   "outputs": [],
   "source": [
    "df2.isna().sum()"
   ]
  },
  {
   "cell_type": "code",
   "execution_count": null,
   "metadata": {},
   "outputs": [],
   "source": [
    "# 결측치인 데이터를 필터링\n",
    "df2.isna().any(axis=1)\n",
    "# df.iloc[:, 0].isna | df.iloc[:, 1].isna | df.iloc[:, 2].isna"
   ]
  },
  {
   "cell_type": "code",
   "execution_count": null,
   "metadata": {},
   "outputs": [],
   "source": [
    "df2.loc[~df2.isna().any(axis=1)]"
   ]
  },
  {
   "cell_type": "code",
   "execution_count": null,
   "metadata": {},
   "outputs": [],
   "source": [
    "df2.describe()"
   ]
  },
  {
   "cell_type": "code",
   "execution_count": null,
   "metadata": {},
   "outputs": [],
   "source": [
    "flag = df2.isin([np.nan, np.inf, -np.inf]).any(axis=1)"
   ]
  },
  {
   "cell_type": "code",
   "execution_count": null,
   "metadata": {},
   "outputs": [],
   "source": [
    "AAPL = df2.loc[~flag]"
   ]
  },
  {
   "cell_type": "code",
   "execution_count": null,
   "metadata": {},
   "outputs": [],
   "source": [
    "AAPL.head()"
   ]
  },
  {
   "cell_type": "code",
   "execution_count": null,
   "metadata": {},
   "outputs": [],
   "source": [
    "# 수정 주가(Adj Close)컬럼을 제외한 나머지 컬럼은 제거 \n",
    "price_AAPL = AAPL[['Adj Close']]"
   ]
  },
  {
   "cell_type": "code",
   "execution_count": null,
   "metadata": {},
   "outputs": [],
   "source": [
    "# 일별 수익율 생성\n",
    "# 오늘의 주가 / 전날의 주가\n",
    "# price_AAPL에 새로운 파생변수 생성하여 \n",
    "# 일별 수익율(daily_rtn) 대입\n",
    "price_AAPL['daily_rtn'] =\\\n",
    "      price_AAPL['Adj Close'] / price_AAPL['Adj Close'].shift()"
   ]
  },
  {
   "cell_type": "code",
   "execution_count": null,
   "metadata": {},
   "outputs": [],
   "source": [
    "price_AAPL.head()"
   ]
  },
  {
   "cell_type": "code",
   "execution_count": null,
   "metadata": {},
   "outputs": [],
   "source": [
    "price_df = price_AAPL.tail(1000)"
   ]
  },
  {
   "cell_type": "code",
   "execution_count": null,
   "metadata": {},
   "outputs": [],
   "source": [
    "# 해당하는 기간에서 누적 수익율을 계산\n",
    "\n",
    "# 일별 수익율을 이용하여 누적 수익율 계산\n",
    "# 수익율 데이터를 생성하여 1대입 \n",
    "rtn = 1\n",
    "\n",
    "for i in range(len(price_df)):\n",
    "    # i? -> 데이터프레임의 인덱스(위치)\n",
    "    rtn *= price_df.iloc[i, 1]\n",
    "rtn"
   ]
  },
  {
   "cell_type": "code",
   "execution_count": null,
   "metadata": {},
   "outputs": [],
   "source": [
    "# 위치를 기준으로 하여 데이터프레임를 필터링\n",
    "price_df.iloc[0, 1]"
   ]
  },
  {
   "cell_type": "code",
   "execution_count": null,
   "metadata": {},
   "outputs": [],
   "source": [
    "price_df['daily_rtn2'] = price_df['Adj Close'].pct_change()"
   ]
  },
  {
   "cell_type": "code",
   "execution_count": null,
   "metadata": {},
   "outputs": [],
   "source": [
    "# 누적곱 함수 \n",
    "(1+price_df['daily_rtn2']).cumprod()"
   ]
  },
  {
   "cell_type": "code",
   "execution_count": null,
   "metadata": {},
   "outputs": [],
   "source": [
    "price_df.iloc[len(price_df)-1, 0] / price_df.iloc[0, 0]"
   ]
  },
  {
   "cell_type": "code",
   "execution_count": null,
   "metadata": {},
   "outputs": [],
   "source": [
    "df = pd.read_csv('../../csv/AAPL.csv')"
   ]
  },
  {
   "cell_type": "code",
   "execution_count": null,
   "metadata": {},
   "outputs": [],
   "source": [
    "# Date 컬럼을 datetime 형태 변경 \n",
    "df.info()"
   ]
  },
  {
   "cell_type": "code",
   "execution_count": 53,
   "metadata": {},
   "outputs": [
    {
     "data": {
      "text/html": [
       "<div>\n",
       "<style scoped>\n",
       "    .dataframe tbody tr th:only-of-type {\n",
       "        vertical-align: middle;\n",
       "    }\n",
       "\n",
       "    .dataframe tbody tr th {\n",
       "        vertical-align: top;\n",
       "    }\n",
       "\n",
       "    .dataframe thead th {\n",
       "        text-align: right;\n",
       "    }\n",
       "</style>\n",
       "<table border=\"1\" class=\"dataframe\">\n",
       "  <thead>\n",
       "    <tr style=\"text-align: right;\">\n",
       "      <th></th>\n",
       "      <th>Date</th>\n",
       "      <th>Open</th>\n",
       "      <th>High</th>\n",
       "      <th>Low</th>\n",
       "      <th>Close</th>\n",
       "      <th>Adj Close</th>\n",
       "      <th>Volume</th>\n",
       "    </tr>\n",
       "  </thead>\n",
       "  <tbody>\n",
       "    <tr>\n",
       "      <th>0</th>\n",
       "      <td>1980-12-12</td>\n",
       "      <td>0.513393</td>\n",
       "      <td>0.515625</td>\n",
       "      <td>0.513393</td>\n",
       "      <td>0.513393</td>\n",
       "      <td>0.410525</td>\n",
       "      <td>117258400.0</td>\n",
       "    </tr>\n",
       "  </tbody>\n",
       "</table>\n",
       "</div>"
      ],
      "text/plain": [
       "         Date      Open      High       Low     Close  Adj Close       Volume\n",
       "0  1980-12-12  0.513393  0.515625  0.513393  0.513393   0.410525  117258400.0"
      ]
     },
     "execution_count": 53,
     "metadata": {},
     "output_type": "execute_result"
    }
   ],
   "source": [
    "df.head(1)"
   ]
  },
  {
   "cell_type": "code",
   "execution_count": 55,
   "metadata": {},
   "outputs": [],
   "source": [
    "df['Date'] = pd.to_datetime(df['Date'], format='%Y-%m-%d')"
   ]
  },
  {
   "cell_type": "code",
   "execution_count": 56,
   "metadata": {},
   "outputs": [
    {
     "name": "stdout",
     "output_type": "stream",
     "text": [
      "<class 'pandas.core.frame.DataFrame'>\n",
      "RangeIndex: 9715 entries, 0 to 9714\n",
      "Data columns (total 7 columns):\n",
      " #   Column     Non-Null Count  Dtype         \n",
      "---  ------     --------------  -----         \n",
      " 0   Date       9715 non-null   datetime64[ns]\n",
      " 1   Open       9714 non-null   float64       \n",
      " 2   High       9714 non-null   float64       \n",
      " 3   Low        9714 non-null   float64       \n",
      " 4   Close      9714 non-null   float64       \n",
      " 5   Adj Close  9714 non-null   float64       \n",
      " 6   Volume     9713 non-null   float64       \n",
      "dtypes: datetime64[ns](1), float64(6)\n",
      "memory usage: 531.4 KB\n"
     ]
    }
   ],
   "source": [
    "df.info()"
   ]
  },
  {
   "cell_type": "code",
   "execution_count": 57,
   "metadata": {},
   "outputs": [],
   "source": [
    "# Date 컬럼을 인덱스로 변경 \n",
    "df.set_index('Date', inplace=True)"
   ]
  },
  {
   "cell_type": "code",
   "execution_count": 60,
   "metadata": {},
   "outputs": [
    {
     "data": {
      "text/html": [
       "<div>\n",
       "<style scoped>\n",
       "    .dataframe tbody tr th:only-of-type {\n",
       "        vertical-align: middle;\n",
       "    }\n",
       "\n",
       "    .dataframe tbody tr th {\n",
       "        vertical-align: top;\n",
       "    }\n",
       "\n",
       "    .dataframe thead th {\n",
       "        text-align: right;\n",
       "    }\n",
       "</style>\n",
       "<table border=\"1\" class=\"dataframe\">\n",
       "  <thead>\n",
       "    <tr style=\"text-align: right;\">\n",
       "      <th></th>\n",
       "      <th>Open</th>\n",
       "      <th>High</th>\n",
       "      <th>Low</th>\n",
       "      <th>Close</th>\n",
       "      <th>Adj Close</th>\n",
       "      <th>Volume</th>\n",
       "    </tr>\n",
       "    <tr>\n",
       "      <th>Date</th>\n",
       "      <th></th>\n",
       "      <th></th>\n",
       "      <th></th>\n",
       "      <th></th>\n",
       "      <th></th>\n",
       "      <th></th>\n",
       "    </tr>\n",
       "  </thead>\n",
       "  <tbody>\n",
       "    <tr>\n",
       "      <th>2019-06-18</th>\n",
       "      <td>196.050003</td>\n",
       "      <td>200.289993</td>\n",
       "      <td>195.210007</td>\n",
       "      <td>198.449997</td>\n",
       "      <td>198.449997</td>\n",
       "      <td>26551000.0</td>\n",
       "    </tr>\n",
       "    <tr>\n",
       "      <th>2019-06-19</th>\n",
       "      <td>199.679993</td>\n",
       "      <td>199.880005</td>\n",
       "      <td>197.309998</td>\n",
       "      <td>197.869995</td>\n",
       "      <td>197.869995</td>\n",
       "      <td>21124200.0</td>\n",
       "    </tr>\n",
       "    <tr>\n",
       "      <th>2019-06-20</th>\n",
       "      <td>200.369995</td>\n",
       "      <td>200.610001</td>\n",
       "      <td>198.029999</td>\n",
       "      <td>199.460007</td>\n",
       "      <td>199.460007</td>\n",
       "      <td>21514000.0</td>\n",
       "    </tr>\n",
       "    <tr>\n",
       "      <th>2019-06-21</th>\n",
       "      <td>198.800003</td>\n",
       "      <td>200.850006</td>\n",
       "      <td>198.149994</td>\n",
       "      <td>198.779999</td>\n",
       "      <td>198.779999</td>\n",
       "      <td>47735300.0</td>\n",
       "    </tr>\n",
       "    <tr>\n",
       "      <th>2019-06-24</th>\n",
       "      <td>198.539993</td>\n",
       "      <td>200.160004</td>\n",
       "      <td>198.169998</td>\n",
       "      <td>199.169998</td>\n",
       "      <td>199.169998</td>\n",
       "      <td>9025362.0</td>\n",
       "    </tr>\n",
       "  </tbody>\n",
       "</table>\n",
       "</div>"
      ],
      "text/plain": [
       "                  Open        High         Low       Close   Adj Close  \\\n",
       "Date                                                                     \n",
       "2019-06-18  196.050003  200.289993  195.210007  198.449997  198.449997   \n",
       "2019-06-19  199.679993  199.880005  197.309998  197.869995  197.869995   \n",
       "2019-06-20  200.369995  200.610001  198.029999  199.460007  199.460007   \n",
       "2019-06-21  198.800003  200.850006  198.149994  198.779999  198.779999   \n",
       "2019-06-24  198.539993  200.160004  198.169998  199.169998  199.169998   \n",
       "\n",
       "                Volume  \n",
       "Date                    \n",
       "2019-06-18  26551000.0  \n",
       "2019-06-19  21124200.0  \n",
       "2019-06-20  21514000.0  \n",
       "2019-06-21  47735300.0  \n",
       "2019-06-24   9025362.0  "
      ]
     },
     "execution_count": 60,
     "metadata": {},
     "output_type": "execute_result"
    }
   ],
   "source": [
    "df.tail()"
   ]
  },
  {
   "cell_type": "code",
   "execution_count": 59,
   "metadata": {},
   "outputs": [],
   "source": [
    "from datetime import datetime"
   ]
  },
  {
   "cell_type": "code",
   "execution_count": 61,
   "metadata": {},
   "outputs": [
    {
     "name": "stdout",
     "output_type": "stream",
     "text": [
      "2018-06-01 00:00:00\n",
      "2019-05-01 00:00:00\n"
     ]
    }
   ],
   "source": [
    "start = \"201806\"\n",
    "end = \"201905\"\n",
    "\n",
    "buy = datetime.strptime(start, '%Y%m')\n",
    "sell = datetime.strptime(end, '%Y%m')\n",
    "\n",
    "print(buy)\n",
    "print(sell)"
   ]
  },
  {
   "cell_type": "code",
   "execution_count": 62,
   "metadata": {},
   "outputs": [
    {
     "data": {
      "text/html": [
       "<div>\n",
       "<style scoped>\n",
       "    .dataframe tbody tr th:only-of-type {\n",
       "        vertical-align: middle;\n",
       "    }\n",
       "\n",
       "    .dataframe tbody tr th {\n",
       "        vertical-align: top;\n",
       "    }\n",
       "\n",
       "    .dataframe thead th {\n",
       "        text-align: right;\n",
       "    }\n",
       "</style>\n",
       "<table border=\"1\" class=\"dataframe\">\n",
       "  <thead>\n",
       "    <tr style=\"text-align: right;\">\n",
       "      <th></th>\n",
       "      <th>Open</th>\n",
       "      <th>High</th>\n",
       "      <th>Low</th>\n",
       "      <th>Close</th>\n",
       "      <th>Adj Close</th>\n",
       "      <th>Volume</th>\n",
       "    </tr>\n",
       "    <tr>\n",
       "      <th>Date</th>\n",
       "      <th></th>\n",
       "      <th></th>\n",
       "      <th></th>\n",
       "      <th></th>\n",
       "      <th></th>\n",
       "      <th></th>\n",
       "    </tr>\n",
       "  </thead>\n",
       "  <tbody>\n",
       "    <tr>\n",
       "      <th>2018-06-01</th>\n",
       "      <td>187.990005</td>\n",
       "      <td>190.259995</td>\n",
       "      <td>187.750000</td>\n",
       "      <td>190.240005</td>\n",
       "      <td>187.387604</td>\n",
       "      <td>23442500.0</td>\n",
       "    </tr>\n",
       "    <tr>\n",
       "      <th>2018-06-04</th>\n",
       "      <td>191.639999</td>\n",
       "      <td>193.419998</td>\n",
       "      <td>191.350006</td>\n",
       "      <td>191.830002</td>\n",
       "      <td>188.953751</td>\n",
       "      <td>26266200.0</td>\n",
       "    </tr>\n",
       "    <tr>\n",
       "      <th>2018-06-05</th>\n",
       "      <td>193.070007</td>\n",
       "      <td>193.940002</td>\n",
       "      <td>192.360001</td>\n",
       "      <td>193.309998</td>\n",
       "      <td>190.411560</td>\n",
       "      <td>21566000.0</td>\n",
       "    </tr>\n",
       "    <tr>\n",
       "      <th>2018-06-06</th>\n",
       "      <td>193.630005</td>\n",
       "      <td>194.080002</td>\n",
       "      <td>191.919998</td>\n",
       "      <td>193.979996</td>\n",
       "      <td>191.071487</td>\n",
       "      <td>20933600.0</td>\n",
       "    </tr>\n",
       "    <tr>\n",
       "      <th>2018-06-07</th>\n",
       "      <td>194.139999</td>\n",
       "      <td>194.199997</td>\n",
       "      <td>192.339996</td>\n",
       "      <td>193.460007</td>\n",
       "      <td>190.559311</td>\n",
       "      <td>21347200.0</td>\n",
       "    </tr>\n",
       "    <tr>\n",
       "      <th>...</th>\n",
       "      <td>...</td>\n",
       "      <td>...</td>\n",
       "      <td>...</td>\n",
       "      <td>...</td>\n",
       "      <td>...</td>\n",
       "      <td>...</td>\n",
       "    </tr>\n",
       "    <tr>\n",
       "      <th>2019-04-25</th>\n",
       "      <td>206.830002</td>\n",
       "      <td>207.759995</td>\n",
       "      <td>205.119995</td>\n",
       "      <td>205.279999</td>\n",
       "      <td>204.492508</td>\n",
       "      <td>18543200.0</td>\n",
       "    </tr>\n",
       "    <tr>\n",
       "      <th>2019-04-26</th>\n",
       "      <td>204.899994</td>\n",
       "      <td>205.000000</td>\n",
       "      <td>202.119995</td>\n",
       "      <td>204.300003</td>\n",
       "      <td>203.516266</td>\n",
       "      <td>18649100.0</td>\n",
       "    </tr>\n",
       "    <tr>\n",
       "      <th>2019-04-29</th>\n",
       "      <td>204.399994</td>\n",
       "      <td>205.970001</td>\n",
       "      <td>203.860001</td>\n",
       "      <td>204.610001</td>\n",
       "      <td>203.825073</td>\n",
       "      <td>22204700.0</td>\n",
       "    </tr>\n",
       "    <tr>\n",
       "      <th>2019-04-30</th>\n",
       "      <td>203.059998</td>\n",
       "      <td>203.399994</td>\n",
       "      <td>199.110001</td>\n",
       "      <td>200.669998</td>\n",
       "      <td>199.900192</td>\n",
       "      <td>46534900.0</td>\n",
       "    </tr>\n",
       "    <tr>\n",
       "      <th>2019-05-01</th>\n",
       "      <td>209.880005</td>\n",
       "      <td>215.309998</td>\n",
       "      <td>209.229996</td>\n",
       "      <td>210.520004</td>\n",
       "      <td>209.712402</td>\n",
       "      <td>64827300.0</td>\n",
       "    </tr>\n",
       "  </tbody>\n",
       "</table>\n",
       "<p>230 rows × 6 columns</p>\n",
       "</div>"
      ],
      "text/plain": [
       "                  Open        High         Low       Close   Adj Close  \\\n",
       "Date                                                                     \n",
       "2018-06-01  187.990005  190.259995  187.750000  190.240005  187.387604   \n",
       "2018-06-04  191.639999  193.419998  191.350006  191.830002  188.953751   \n",
       "2018-06-05  193.070007  193.940002  192.360001  193.309998  190.411560   \n",
       "2018-06-06  193.630005  194.080002  191.919998  193.979996  191.071487   \n",
       "2018-06-07  194.139999  194.199997  192.339996  193.460007  190.559311   \n",
       "...                ...         ...         ...         ...         ...   \n",
       "2019-04-25  206.830002  207.759995  205.119995  205.279999  204.492508   \n",
       "2019-04-26  204.899994  205.000000  202.119995  204.300003  203.516266   \n",
       "2019-04-29  204.399994  205.970001  203.860001  204.610001  203.825073   \n",
       "2019-04-30  203.059998  203.399994  199.110001  200.669998  199.900192   \n",
       "2019-05-01  209.880005  215.309998  209.229996  210.520004  209.712402   \n",
       "\n",
       "                Volume  \n",
       "Date                    \n",
       "2018-06-01  23442500.0  \n",
       "2018-06-04  26266200.0  \n",
       "2018-06-05  21566000.0  \n",
       "2018-06-06  20933600.0  \n",
       "2018-06-07  21347200.0  \n",
       "...                ...  \n",
       "2019-04-25  18543200.0  \n",
       "2019-04-26  18649100.0  \n",
       "2019-04-29  22204700.0  \n",
       "2019-04-30  46534900.0  \n",
       "2019-05-01  64827300.0  \n",
       "\n",
       "[230 rows x 6 columns]"
      ]
     },
     "execution_count": 62,
     "metadata": {},
     "output_type": "execute_result"
    }
   ],
   "source": [
    "df.loc[buy:sell]"
   ]
  },
  {
   "cell_type": "code",
   "execution_count": null,
   "metadata": {},
   "outputs": [],
   "source": [
    "# 함수(buyandhold)를 생성 -> 매개변수는 4개(df, col, start, end)\n",
    "\n",
    "    # df에 결측치나 무한대 값들을 모두 제거 \n",
    "\n",
    "    # df에 있는 Date 컬럼을 시계열 데이터로 변경\n",
    "\n",
    "    # col 매개변수를 이용하여 df에 해당하는 col 컬럼만 제외하고 모두 제거 \n",
    "\n",
    "    # start, end 데이터를 시계열 데이터로 변경\n",
    "\n",
    "    # start, end를 기준으로 df을 필터링\n",
    "\n",
    "    # daily_rtn 파생변수를 생성하여 일별 수익율을 계산해서 대입\n",
    "\n",
    "    # rtn 파생변수를 생성하여 누적 수익율 계산하여 대입 \n",
    "\n",
    "    # 데이터프레임 리턴\n",
    "\n",
    "    "
   ]
  }
 ],
 "metadata": {
  "kernelspec": {
   "display_name": "Python 3",
   "language": "python",
   "name": "python3"
  },
  "language_info": {
   "codemirror_mode": {
    "name": "ipython",
    "version": 3
   },
   "file_extension": ".py",
   "mimetype": "text/x-python",
   "name": "python",
   "nbconvert_exporter": "python",
   "pygments_lexer": "ipython3",
   "version": "3.11.1"
  }
 },
 "nbformat": 4,
 "nbformat_minor": 2
}
