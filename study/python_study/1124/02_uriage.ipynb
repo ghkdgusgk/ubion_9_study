{
 "cells": [
  {
   "cell_type": "code",
   "execution_count": null,
   "metadata": {},
   "outputs": [],
   "source": [
    "import pandas as pd "
   ]
  },
  {
   "cell_type": "code",
   "execution_count": null,
   "metadata": {},
   "outputs": [],
   "source": [
    "# uriage.csv 파일 로드 \n",
    "uriage = pd.read_csv('../../csv/uriage.csv')\n",
    "uriage.head(10)"
   ]
  },
  {
   "cell_type": "markdown",
   "metadata": {},
   "source": [
    "### 데이터의 정형화\n",
    "1. item_name 값들을 모두 대문자로 변경\n",
    "2. item_name 값들 사이에 존재하는 공백을 제거 "
   ]
  },
  {
   "cell_type": "code",
   "execution_count": null,
   "metadata": {},
   "outputs": [],
   "source": [
    "df = uriage.copy()"
   ]
  },
  {
   "cell_type": "code",
   "execution_count": null,
   "metadata": {},
   "outputs": [],
   "source": [
    "df.info()"
   ]
  },
  {
   "cell_type": "code",
   "execution_count": null,
   "metadata": {},
   "outputs": [],
   "source": [
    "len(df)"
   ]
  },
  {
   "cell_type": "code",
   "execution_count": null,
   "metadata": {},
   "outputs": [],
   "source": [
    "# for문\n",
    "data_list = []\n",
    "for i in range(len(df)):\n",
    "    data_list.append(df['item_name'][i].upper())\n",
    "df['item_name'] = data_list\n",
    "df.head(5)"
   ]
  },
  {
   "cell_type": "code",
   "execution_count": null,
   "metadata": {},
   "outputs": [],
   "source": [
    "data_list = []\n",
    "\n",
    "for i in range(len(df)):\n",
    "    data_list.append(df['item_name'][i].replace(\" \", \"\"))\n",
    "\n",
    "df['item_name'] = data_list\n",
    "\n",
    "df.head()"
   ]
  },
  {
   "cell_type": "code",
   "execution_count": null,
   "metadata": {},
   "outputs": [],
   "source": [
    "df = uriage.copy()"
   ]
  },
  {
   "cell_type": "code",
   "execution_count": null,
   "metadata": {},
   "outputs": [],
   "source": [
    "df.loc[2, 'item_name'].upper().replace(\" \", \"\")"
   ]
  },
  {
   "cell_type": "code",
   "execution_count": null,
   "metadata": {},
   "outputs": [],
   "source": [
    "# while문 \n",
    "i = 0\n",
    "\n",
    "while i < len(df):\n",
    "    data = df.loc[i, 'item_name'].upper().replace(' ', '')\n",
    "    df.loc[i, 'item_name'] = data\n",
    "    i += 1\n",
    "\n",
    "df.head()"
   ]
  },
  {
   "cell_type": "code",
   "execution_count": null,
   "metadata": {},
   "outputs": [],
   "source": [
    "# String 내장함수 \n",
    "df = uriage.copy()"
   ]
  },
  {
   "cell_type": "code",
   "execution_count": null,
   "metadata": {},
   "outputs": [],
   "source": [
    "df['item_name'] = \\\n",
    "    df['item_name'].str.upper().str.replace(\" \", \"\")"
   ]
  },
  {
   "cell_type": "code",
   "execution_count": null,
   "metadata": {},
   "outputs": [],
   "source": [
    "df.head()"
   ]
  },
  {
   "cell_type": "code",
   "execution_count": null,
   "metadata": {},
   "outputs": [],
   "source": [
    "# list형태로 변경하여 문자열을 정형화\n",
    "df = uriage.copy()"
   ]
  },
  {
   "cell_type": "code",
   "execution_count": null,
   "metadata": {},
   "outputs": [],
   "source": [
    "data_list = list(df['item_name'])"
   ]
  },
  {
   "cell_type": "code",
   "execution_count": null,
   "metadata": {},
   "outputs": [],
   "source": [
    "# map + 일반함수\n",
    "def change(x):\n",
    "    # x는 리스트의 각 원소들 입력 \n",
    "    # x의 데이터의 타입은 str\n",
    "    result = x.upper().replace(' ', '')\n",
    "    return result\n",
    "\n",
    "# list(map({func명}, {자료형데이터}))\n",
    "list(\n",
    "    map(\n",
    "        change, \n",
    "        data_list\n",
    "    )\n",
    ")"
   ]
  },
  {
   "cell_type": "code",
   "execution_count": null,
   "metadata": {},
   "outputs": [],
   "source": [
    "# map + lambda\n",
    "list(\n",
    "    map(\n",
    "        lambda x : x.upper().replace(' ', ''), \n",
    "        data_list\n",
    "    )\n",
    ")"
   ]
  },
  {
   "cell_type": "code",
   "execution_count": null,
   "metadata": {},
   "outputs": [],
   "source": [
    "# apply() : list에서 map함수의 역할과 비슷한 행동\n",
    "\n",
    "# apply() + 일반함수\n",
    "def change(x):\n",
    "    result = x.upper().replace(' ', '')\n",
    "    return result\n",
    "\n",
    "df['item_name'].apply(change)"
   ]
  },
  {
   "cell_type": "code",
   "execution_count": null,
   "metadata": {},
   "outputs": [],
   "source": [
    "# apply() + lambda\n",
    "df['item_name'].apply(\n",
    "    lambda x : x.upper().replace(' ', '')\n",
    ")"
   ]
  },
  {
   "cell_type": "code",
   "execution_count": null,
   "metadata": {},
   "outputs": [],
   "source": [
    "uriage['item_name'] = \\\n",
    "    uriage['item_name'].apply(\n",
    "        lambda x : x.upper().replace(' ', '') \n",
    "    )"
   ]
  },
  {
   "cell_type": "code",
   "execution_count": null,
   "metadata": {},
   "outputs": [],
   "source": [
    "uriage.head()"
   ]
  },
  {
   "cell_type": "markdown",
   "metadata": {},
   "source": [
    "### 결측치에 다른값들로 대체\n",
    "1. 상품명에 따라 상품가격이 고정\n",
    "2. 결측치를 상품명에 맞춰서 해당 상품의 결측치가 아닌 상품 가격을 결측치에 대체\n",
    "- ex) 상품A인 데이터 중 item_price가 결측치가 아닌 데이터의 평균 값을 구하고 해당 평균 값을 item_price가 결측치인 곳에 대입"
   ]
  },
  {
   "cell_type": "code",
   "execution_count": null,
   "metadata": {},
   "outputs": [],
   "source": [
    "import numpy as np"
   ]
  },
  {
   "cell_type": "code",
   "execution_count": null,
   "metadata": {},
   "outputs": [],
   "source": [
    "# item_name이 상품A이고 item_price가 결측치인 데이터 출력\n",
    "flag = (uriage['item_name'] == '상품A') \n",
    "flag2 = (uriage['item_price'].isna())\n",
    "uriage.loc[flag & ~flag2]\n",
    "# ~flag2"
   ]
  },
  {
   "cell_type": "code",
   "execution_count": null,
   "metadata": {},
   "outputs": [],
   "source": [
    "# 상품A의 결측치가 아닌 item_price 평균 값 \n",
    "a_mean = uriage.loc[flag & ~flag2, 'item_price'].mean()"
   ]
  },
  {
   "cell_type": "code",
   "execution_count": null,
   "metadata": {},
   "outputs": [],
   "source": [
    "len(uriage.loc[flag & flag2])"
   ]
  },
  {
   "cell_type": "code",
   "execution_count": null,
   "metadata": {},
   "outputs": [],
   "source": [
    "uriage.loc[flag & flag2, 'item_price'] = a_mean"
   ]
  },
  {
   "cell_type": "code",
   "execution_count": null,
   "metadata": {},
   "outputs": [],
   "source": [
    "uriage.loc[flag].isna().sum()"
   ]
  },
  {
   "cell_type": "code",
   "execution_count": null,
   "metadata": {},
   "outputs": [],
   "source": [
    "df = uriage.copy()"
   ]
  },
  {
   "cell_type": "code",
   "execution_count": null,
   "metadata": {},
   "outputs": [],
   "source": [
    "df.loc[flag, 'item_price'] = 100"
   ]
  },
  {
   "cell_type": "code",
   "execution_count": null,
   "metadata": {},
   "outputs": [],
   "source": [
    "df.loc[flag]"
   ]
  },
  {
   "cell_type": "code",
   "execution_count": null,
   "metadata": {},
   "outputs": [],
   "source": [
    "# unique()\n",
    "uriage['item_name'].unique()"
   ]
  },
  {
   "cell_type": "code",
   "execution_count": null,
   "metadata": {},
   "outputs": [],
   "source": [
    "name_list = []\n",
    "\n",
    "for name in uriage['item_name']:\n",
    "    if name not in name_list:\n",
    "        name_list.append(name)\n",
    "name_list "
   ]
  },
  {
   "cell_type": "code",
   "execution_count": 74,
   "metadata": {},
   "outputs": [
    {
     "data": {
      "text/plain": [
       "['상품O',\n",
       " '상품D',\n",
       " '상품H',\n",
       " '상품A',\n",
       " '상품C',\n",
       " '상품S',\n",
       " '상품G',\n",
       " '상품Z',\n",
       " '상품U',\n",
       " '상품B',\n",
       " '상품R',\n",
       " '상품M',\n",
       " '상품K',\n",
       " '상품Y',\n",
       " '상품N',\n",
       " '상품W',\n",
       " '상품E',\n",
       " '상품V',\n",
       " '상품X',\n",
       " '상품J',\n",
       " '상품P',\n",
       " '상품I',\n",
       " '상품L',\n",
       " '상품T',\n",
       " '상품F',\n",
       " '상품Q']"
      ]
     },
     "execution_count": 74,
     "metadata": {},
     "output_type": "execute_result"
    }
   ],
   "source": [
    "list(set(uriage['item_name']))"
   ]
  },
  {
   "cell_type": "code",
   "execution_count": 75,
   "metadata": {},
   "outputs": [],
   "source": [
    "# 상품의 목록을 생성\n",
    "name_list = uriage['item_name'].unique()\n",
    "\n",
    "# 상품의 목록을 사용하여 반복문을 실행\n",
    "for name in name_list:\n",
    "    # 조건식 생성 \n",
    "    flag = uriage['item_name'] == name\n",
    "    flag2 = uriage['item_price'].isna()\n",
    "\n",
    "    # flag와 ~flag2 조건식이 모두 참인 데이터의 item_price 평균 값 생성\n",
    "    price_mean = uriage.loc[flag & ~flag2, 'item_price'].mean()\n",
    "    # flag와 flag2 조건식이 모두 참이고 컬럼이 item_price인 데이터에 평균값을 대입\n",
    "    uriage.loc[flag & flag2, 'item_price'] = price_mean"
   ]
  },
  {
   "cell_type": "code",
   "execution_count": 76,
   "metadata": {},
   "outputs": [
    {
     "data": {
      "text/plain": [
       "purchase_date    0\n",
       "item_name        0\n",
       "item_price       0\n",
       "customer_name    0\n",
       "dtype: int64"
      ]
     },
     "execution_count": 76,
     "metadata": {},
     "output_type": "execute_result"
    }
   ],
   "source": [
    "uriage.isna().sum()"
   ]
  },
  {
   "cell_type": "code",
   "execution_count": 77,
   "metadata": {},
   "outputs": [
    {
     "data": {
      "text/html": [
       "<div>\n",
       "<style scoped>\n",
       "    .dataframe tbody tr th:only-of-type {\n",
       "        vertical-align: middle;\n",
       "    }\n",
       "\n",
       "    .dataframe tbody tr th {\n",
       "        vertical-align: top;\n",
       "    }\n",
       "\n",
       "    .dataframe thead th {\n",
       "        text-align: right;\n",
       "    }\n",
       "</style>\n",
       "<table border=\"1\" class=\"dataframe\">\n",
       "  <thead>\n",
       "    <tr style=\"text-align: right;\">\n",
       "      <th></th>\n",
       "      <th>item_price</th>\n",
       "    </tr>\n",
       "    <tr>\n",
       "      <th>item_name</th>\n",
       "      <th></th>\n",
       "    </tr>\n",
       "  </thead>\n",
       "  <tbody>\n",
       "    <tr>\n",
       "      <th>상품A</th>\n",
       "      <td>100.0</td>\n",
       "    </tr>\n",
       "    <tr>\n",
       "      <th>상품B</th>\n",
       "      <td>200.0</td>\n",
       "    </tr>\n",
       "    <tr>\n",
       "      <th>상품C</th>\n",
       "      <td>300.0</td>\n",
       "    </tr>\n",
       "    <tr>\n",
       "      <th>상품D</th>\n",
       "      <td>400.0</td>\n",
       "    </tr>\n",
       "    <tr>\n",
       "      <th>상품E</th>\n",
       "      <td>500.0</td>\n",
       "    </tr>\n",
       "    <tr>\n",
       "      <th>상품F</th>\n",
       "      <td>600.0</td>\n",
       "    </tr>\n",
       "    <tr>\n",
       "      <th>상품G</th>\n",
       "      <td>700.0</td>\n",
       "    </tr>\n",
       "    <tr>\n",
       "      <th>상품H</th>\n",
       "      <td>800.0</td>\n",
       "    </tr>\n",
       "    <tr>\n",
       "      <th>상품I</th>\n",
       "      <td>900.0</td>\n",
       "    </tr>\n",
       "    <tr>\n",
       "      <th>상품J</th>\n",
       "      <td>1000.0</td>\n",
       "    </tr>\n",
       "    <tr>\n",
       "      <th>상품K</th>\n",
       "      <td>1100.0</td>\n",
       "    </tr>\n",
       "    <tr>\n",
       "      <th>상품L</th>\n",
       "      <td>1200.0</td>\n",
       "    </tr>\n",
       "    <tr>\n",
       "      <th>상품M</th>\n",
       "      <td>1300.0</td>\n",
       "    </tr>\n",
       "    <tr>\n",
       "      <th>상품N</th>\n",
       "      <td>1400.0</td>\n",
       "    </tr>\n",
       "    <tr>\n",
       "      <th>상품O</th>\n",
       "      <td>1500.0</td>\n",
       "    </tr>\n",
       "    <tr>\n",
       "      <th>상품P</th>\n",
       "      <td>1600.0</td>\n",
       "    </tr>\n",
       "    <tr>\n",
       "      <th>상품Q</th>\n",
       "      <td>1700.0</td>\n",
       "    </tr>\n",
       "    <tr>\n",
       "      <th>상품R</th>\n",
       "      <td>1800.0</td>\n",
       "    </tr>\n",
       "    <tr>\n",
       "      <th>상품S</th>\n",
       "      <td>1900.0</td>\n",
       "    </tr>\n",
       "    <tr>\n",
       "      <th>상품T</th>\n",
       "      <td>2000.0</td>\n",
       "    </tr>\n",
       "    <tr>\n",
       "      <th>상품U</th>\n",
       "      <td>2100.0</td>\n",
       "    </tr>\n",
       "    <tr>\n",
       "      <th>상품V</th>\n",
       "      <td>2200.0</td>\n",
       "    </tr>\n",
       "    <tr>\n",
       "      <th>상품W</th>\n",
       "      <td>2300.0</td>\n",
       "    </tr>\n",
       "    <tr>\n",
       "      <th>상품X</th>\n",
       "      <td>2400.0</td>\n",
       "    </tr>\n",
       "    <tr>\n",
       "      <th>상품Y</th>\n",
       "      <td>2500.0</td>\n",
       "    </tr>\n",
       "    <tr>\n",
       "      <th>상품Z</th>\n",
       "      <td>2600.0</td>\n",
       "    </tr>\n",
       "  </tbody>\n",
       "</table>\n",
       "</div>"
      ],
      "text/plain": [
       "           item_price\n",
       "item_name            \n",
       "상품A             100.0\n",
       "상품B             200.0\n",
       "상품C             300.0\n",
       "상품D             400.0\n",
       "상품E             500.0\n",
       "상품F             600.0\n",
       "상품G             700.0\n",
       "상품H             800.0\n",
       "상품I             900.0\n",
       "상품J            1000.0\n",
       "상품K            1100.0\n",
       "상품L            1200.0\n",
       "상품M            1300.0\n",
       "상품N            1400.0\n",
       "상품O            1500.0\n",
       "상품P            1600.0\n",
       "상품Q            1700.0\n",
       "상품R            1800.0\n",
       "상품S            1900.0\n",
       "상품T            2000.0\n",
       "상품U            2100.0\n",
       "상품V            2200.0\n",
       "상품W            2300.0\n",
       "상품X            2400.0\n",
       "상품Y            2500.0\n",
       "상품Z            2600.0"
      ]
     },
     "execution_count": 77,
     "metadata": {},
     "output_type": "execute_result"
    }
   ],
   "source": [
    "uriage[['item_name', 'item_price']].groupby('item_name').mean()"
   ]
  }
 ],
 "metadata": {
  "kernelspec": {
   "display_name": "Python 3",
   "language": "python",
   "name": "python3"
  },
  "language_info": {
   "codemirror_mode": {
    "name": "ipython",
    "version": 3
   },
   "file_extension": ".py",
   "mimetype": "text/x-python",
   "name": "python",
   "nbconvert_exporter": "python",
   "pygments_lexer": "ipython3",
   "version": "3.8.9"
  }
 },
 "nbformat": 4,
 "nbformat_minor": 2
}
