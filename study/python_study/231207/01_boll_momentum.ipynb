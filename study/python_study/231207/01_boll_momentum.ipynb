{
 "cells": [
  {
   "cell_type": "markdown",
   "metadata": {},
   "source": [
    "### 볼린져밴드 + 절대모멘텀 \n",
    "1. 첫번째 함수 \n",
    "    - 이동평균선 , 상단밴드, 하단밴드 생성\n",
    "    - 년-월 컬럼을 생성\n",
    "    - 투자 기간을 이용하여 필터링\n",
    "2. 두번째 함수 \n",
    "    - 절대모멘텀 월말데이터를 추출하여 새로운 데이터프레임을 생성\n",
    "    - 전월의 주가, 전년도 주가 컬럼을 생성\n",
    "3. 세번째 함수 \n",
    "    - 볼린져밴드 투자전략으로 구매 타이밍 생성 (boll_trade)\n",
    "    - 절대 모멘텀 전략으로 구매타이밍 생성 (momentum_trade)\n",
    "4. 네번째 함수 \n",
    "    - 세번째 함수에서 생성된 구매 타이밍을 기준으로 해서 실제 구매 타이밍(trade)\n",
    "5. 다섯번째 함수\n",
    "    - trade를 기준으로 하여 수익율 계산"
   ]
  },
  {
   "cell_type": "code",
   "execution_count": null,
   "metadata": {},
   "outputs": [],
   "source": [
    "import pandas as pd\n",
    "import numpy as np\n",
    "from datetime import datetime"
   ]
  },
  {
   "cell_type": "code",
   "execution_count": null,
   "metadata": {},
   "outputs": [],
   "source": [
    "def create_band_ym(\n",
    "        _df, \n",
    "        _col = 'Adj Close', \n",
    "        _roll = 20):\n",
    "    # 컬럼의 Date가 존재한다면 \n",
    "    if 'Date' in _df.columns:\n",
    "        _df.set_index('Date', inplace=True)\n",
    "    # index를 시계열데이터로 변경 \n",
    "    _df.index = pd.to_datetime(_df.index)\n",
    "\n",
    "    # 특정 컬럼을 제외하고 모두 제거 \n",
    "    _df = _df[[_col]].copy()\n",
    "    # 결측치, 무한대 데이터를 제외\n",
    "    flag = _df.isin([np.nan, np.inf, -np.inf]).any(axis=1)\n",
    "    _df = _df.loc[~flag]\n",
    "\n",
    "    # 이동평균선을 생성 \n",
    "    _df['center'] = _df[_col].rolling(_roll).mean()\n",
    "    # 상단 밴드, 하단 밴드 생성\n",
    "    _df['ub'] = _df['center'] + ( 2 * _df[_col].rolling(_roll).std() )\n",
    "    _df['lb'] = _df['center'] - ( 2 * _df[_col].rolling(_roll).std() )\n",
    "\n",
    "    # 년-월 (STD-YM) 컬럼을 생성 \n",
    "    _df['STD-YM'] = _df.index.map(\n",
    "        lambda x : x.strftime('%Y-%m')\n",
    "    )\n",
    "\n",
    "    return _df"
   ]
  },
  {
   "cell_type": "code",
   "execution_count": null,
   "metadata": {},
   "outputs": [],
   "source": [
    "df = pd.read_csv('../../csv/AAPL.csv')"
   ]
  },
  {
   "cell_type": "code",
   "execution_count": null,
   "metadata": {},
   "outputs": [],
   "source": [
    "price_df = create_band_ym(df)"
   ]
  },
  {
   "cell_type": "code",
   "execution_count": null,
   "metadata": {},
   "outputs": [],
   "source": [
    "price_df.head()"
   ]
  },
  {
   "cell_type": "code",
   "execution_count": null,
   "metadata": {},
   "outputs": [],
   "source": [
    "# 두번째 함수\n",
    "def create_month_last(_df, \n",
    "                      _momentum = 12, \n",
    "                      _start = \"2010-01-01\", \n",
    "                      _end = \"2023-12-31\"):\n",
    "    # 새로운 데이터프레임을 생성\n",
    "    result = pd.DataFrame()\n",
    "    ym_list = _df['STD-YM'].unique()\n",
    "\n",
    "    # 월말 데이터를 추출하여 result에 대입 \n",
    "    for i in ym_list:\n",
    "        flag = _df['STD-YM'] == i\n",
    "        # data = _df.loc[flag].tail(1)\n",
    "        data = _df.loc[flag].iloc[[-1]]\n",
    "        result = pd.concat([result, data], axis=0)\n",
    "        # result.append(data)\n",
    "\n",
    "    # 기준이 되는 컬럼의 이름을 추출 \n",
    "    col = _df.columns[0]\n",
    "\n",
    "    # 전월의 주가 컬럼 생성\n",
    "    result['BF1'] = result.shift(1)[col].fillna(0)\n",
    "    # _momentum만큼 이동한 월의 주가 컬럼 생성\n",
    "    result['BF2'] = result.shift(_momentum)[col].fillna(0)\n",
    "\n",
    "    # 시간시간과 종료시간으로 필터링 \n",
    "    _df = _df.loc[_start:_end].copy()\n",
    "    result = result.loc[_start:_end]\n",
    "    \n",
    "    return _df, result\n",
    "    "
   ]
  },
  {
   "cell_type": "code",
   "execution_count": null,
   "metadata": {},
   "outputs": [],
   "source": [
    "price_df, month_last_df = create_month_last(price_df)"
   ]
  },
  {
   "cell_type": "code",
   "execution_count": null,
   "metadata": {},
   "outputs": [],
   "source": [
    "price_df.head(5)"
   ]
  },
  {
   "cell_type": "code",
   "execution_count": null,
   "metadata": {},
   "outputs": [],
   "source": [
    "month_last_df.head(5)"
   ]
  },
  {
   "cell_type": "code",
   "execution_count": null,
   "metadata": {},
   "outputs": [],
   "source": [
    "# 세번째 함수 \n",
    "def create_multi_trade(_df, _df2, _score = 1):\n",
    "    # 기준이되는 주가 컬럼 \n",
    "    col = _df.columns[0]\n",
    "    _df = _df.copy()\n",
    "    # 볼린져밴드를 이용한 구매 타이밍\n",
    "    _df['boll_trade'] = \"\"\n",
    "\n",
    "    # 구매 타이밍을 추가 \n",
    "    for i in _df.index:\n",
    "        # 상단밴드보다 주가가 높은 경우\n",
    "        if _df.loc[i, col] > _df.loc[i, 'ub']:\n",
    "            _df.loc[i, 'boll_trade'] = \"\"\n",
    "        # 하단밴드보다 주가가 낮은 경우 \n",
    "        elif _df.loc[i, col] < _df.loc[i, 'lb']:\n",
    "            _df.loc[i, 'boll_trade'] = 'buy'\n",
    "        # 주가가 밴드 사이에 있다면\n",
    "        else:\n",
    "            if _df.shift().loc[i, 'boll_trade'] == 'buy':\n",
    "                _df.loc[i, 'boll_trade'] = 'buy'\n",
    "            else:\n",
    "                _df.loc[i, 'boll_trade'] = ''\n",
    "    \n",
    "    # 모멘텀 구매 타이밍 추가 \n",
    "    _df['momentum_trade'] = \"\"\n",
    "\n",
    "    # 모멘텀 인덱스를 생성 \n",
    "    for i in _df2.index:\n",
    "        signal = \"\"\n",
    "\n",
    "        # 모멘텀 인덱스 계산 ( 전월의 주가 / 전년도 주가 - 1 )\n",
    "        momentum_index = _df2.loc[i, 'BF1'] / _df2.loc[i, 'BF2'] - _score\n",
    "\n",
    "        # 모멘텀 인덱스가 0보다 크고 무한대 아닌 조건식 \n",
    "        flag = (momentum_index > 0) & (momentum_index != np.inf)\n",
    "\n",
    "        if flag:\n",
    "            signal = \"buy\"\n",
    "        \n",
    "        _df.loc[i: , 'momentum_trade'] = signal\n",
    "\n",
    "    return _df\n"
   ]
  },
  {
   "cell_type": "code",
   "execution_count": null,
   "metadata": {},
   "outputs": [],
   "source": [
    "book = create_multi_trade(price_df, month_last_df)"
   ]
  },
  {
   "cell_type": "code",
   "execution_count": null,
   "metadata": {},
   "outputs": [],
   "source": [
    "book.tail(10)"
   ]
  },
  {
   "cell_type": "code",
   "execution_count": null,
   "metadata": {},
   "outputs": [],
   "source": [
    "# book에서 trade 컬럼을 추가하고\n",
    "# boll_trade가 buy 이고 momentum_trade가 'buy'인 경우 trade에 'buy' 대입\n",
    "\n",
    "def create_trade(_df):\n",
    "    _df = _df.copy()\n",
    "    _df['trade_and'] = \"\"\n",
    "    _df['trade_or'] = \"\"\n",
    "\n",
    "    for i in _df.index:\n",
    "        flag_and = (_df.loc[i, 'boll_trade'] == 'buy') & \\\n",
    "            (_df.loc[i, 'momentum_trade'] == 'buy') \n",
    "        flag_or = (_df.loc[i, 'boll_trade'] == 'buy') | \\\n",
    "            (_df.loc[i, 'momentum_trade'] == 'buy')\n",
    "        if flag_and:\n",
    "            _df.loc[i, 'trade_and'] = 'buy'\n",
    "        if flag_or:\n",
    "            _df.loc[i, 'trade_or'] = 'buy'\n",
    "    return _df"
   ]
  },
  {
   "cell_type": "code",
   "execution_count": null,
   "metadata": {},
   "outputs": [],
   "source": [
    "book2 = create_trade(book)"
   ]
  },
  {
   "cell_type": "code",
   "execution_count": null,
   "metadata": {},
   "outputs": [],
   "source": [
    "book2['trade_and'].value_counts()"
   ]
  },
  {
   "cell_type": "code",
   "execution_count": null,
   "metadata": {},
   "outputs": [],
   "source": [
    "book2['trade_or'].value_counts()"
   ]
  },
  {
   "cell_type": "code",
   "execution_count": 83,
   "metadata": {},
   "outputs": [],
   "source": [
    "# 수익율 계산 함수 \n",
    "def create_rtn(_df):\n",
    "    # 기준이 되는 컬럼명 \n",
    "    col = _df.columns[0]\n",
    "\n",
    "    _df['rtn_trade_and'] = 1\n",
    "    _df['rtn_trade_or'] = 1\n",
    "    buy = dict()\n",
    "    sell = dict()\n",
    "    _list =[]\n",
    "\n",
    "    # 수익율 대입\n",
    "    for i in _df.index:\n",
    "        for j in ['trade_and', 'trade_or']:\n",
    "            # 매수\n",
    "            if (_df.loc[i, j] == \"buy\") & (_df.shift().loc[i, j] == \"\"):\n",
    "                buy[j] = _df.loc[i, col]\n",
    "            # 매도\n",
    "            elif (_df.loc[i, j] == \"\") & (_df.shift().loc[i, j] == 'buy'):\n",
    "                sell[j] = _df.loc[i, col]\n",
    "                rtn = sell[j] / buy[j] \n",
    "                _df.loc[i, \"rtn_\"+j] = rtn\n",
    "                _list.append([buy, sell])\n",
    "    # 누적 수익율 계산\n",
    "    _df['acc_rtn_and'] = _df['rtn_trade_and'].cumprod()\n",
    "    _df['acc_rtn_or'] = _df['rtn_trade_or'].cumprod()\n",
    "\n",
    "    print(f\"AND의 누적 수익율 : {_df['acc_rtn_and'].iloc[-1]}\")\n",
    "    print(f\"OR의 누적 수익율 : {_df['acc_rtn_or'].iloc[-1]}\")\n",
    "    return _df"
   ]
  },
  {
   "cell_type": "code",
   "execution_count": null,
   "metadata": {},
   "outputs": [],
   "source": [
    "book2, trade_list =  create_rtn(book2)"
   ]
  },
  {
   "cell_type": "code",
   "execution_count": null,
   "metadata": {},
   "outputs": [],
   "source": [
    "trade_list"
   ]
  },
  {
   "cell_type": "code",
   "execution_count": null,
   "metadata": {},
   "outputs": [],
   "source": [
    "# yfinance라이브러리를 이용해서 주식 데이터 로드 \n",
    "!pip install yfinance"
   ]
  },
  {
   "cell_type": "code",
   "execution_count": null,
   "metadata": {},
   "outputs": [],
   "source": [
    "import yfinance as yf"
   ]
  },
  {
   "cell_type": "code",
   "execution_count": null,
   "metadata": {},
   "outputs": [],
   "source": [
    "AAPL = yf.download('005930.KS', start = \"2010-01-01\")"
   ]
  },
  {
   "cell_type": "code",
   "execution_count": null,
   "metadata": {},
   "outputs": [],
   "source": [
    "AAPL.head()"
   ]
  },
  {
   "cell_type": "code",
   "execution_count": null,
   "metadata": {},
   "outputs": [],
   "source": [
    "AAPL.tail()"
   ]
  },
  {
   "cell_type": "code",
   "execution_count": null,
   "metadata": {},
   "outputs": [],
   "source": [
    "AAPL = create_band_ym(AAPL)"
   ]
  },
  {
   "cell_type": "code",
   "execution_count": null,
   "metadata": {},
   "outputs": [],
   "source": [
    "AAPL, AAPL_last = create_month_last(AAPL, _start=\"2021-01-01\")"
   ]
  },
  {
   "cell_type": "code",
   "execution_count": null,
   "metadata": {},
   "outputs": [],
   "source": [
    "book = create_multi_trade(AAPL, AAPL_last)\n",
    "book.head(2)"
   ]
  },
  {
   "cell_type": "code",
   "execution_count": null,
   "metadata": {},
   "outputs": [],
   "source": [
    "book = create_trade(book)\n",
    "book.head(2)"
   ]
  },
  {
   "cell_type": "code",
   "execution_count": 84,
   "metadata": {},
   "outputs": [
    {
     "name": "stderr",
     "output_type": "stream",
     "text": [
      "C:\\Users\\moons\\AppData\\Local\\Temp\\ipykernel_13716\\1853620699.py:22: FutureWarning: Setting an item of incompatible dtype is deprecated and will raise in a future error of pandas. Value '1.0220047205045621' has dtype incompatible with int64, please explicitly cast to a compatible dtype first.\n",
      "  _df.loc[i, \"rtn_\"+j] = rtn\n",
      "C:\\Users\\moons\\AppData\\Local\\Temp\\ipykernel_13716\\1853620699.py:22: FutureWarning: Setting an item of incompatible dtype is deprecated and will raise in a future error of pandas. Value '0.9723181430106024' has dtype incompatible with int64, please explicitly cast to a compatible dtype first.\n",
      "  _df.loc[i, \"rtn_\"+j] = rtn\n"
     ]
    },
    {
     "name": "stdout",
     "output_type": "stream",
     "text": [
      "AND의 누적 수익율 : 1.0067262354696256\n",
      "OR의 누적 수익율 : 0.8781732548467625\n"
     ]
    }
   ],
   "source": [
    "book = create_rtn(book)"
   ]
  },
  {
   "cell_type": "code",
   "execution_count": null,
   "metadata": {},
   "outputs": [],
   "source": []
  }
 ],
 "metadata": {
  "kernelspec": {
   "display_name": "Python 3",
   "language": "python",
   "name": "python3"
  },
  "language_info": {
   "codemirror_mode": {
    "name": "ipython",
    "version": 3
   },
   "file_extension": ".py",
   "mimetype": "text/x-python",
   "name": "python",
   "nbconvert_exporter": "python",
   "pygments_lexer": "ipython3",
   "version": "3.11.1"
  }
 },
 "nbformat": 4,
 "nbformat_minor": 2
}
