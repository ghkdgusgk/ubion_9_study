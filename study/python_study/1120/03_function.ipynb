{
 "cells": [
  {
   "cell_type": "markdown",
   "metadata": {},
   "source": [
    "### python 내장 함수 "
   ]
  },
  {
   "cell_type": "code",
   "execution_count": 1,
   "metadata": {},
   "outputs": [
    {
     "name": "stdout",
     "output_type": "stream",
     "text": [
      "5\n"
     ]
    }
   ],
   "source": [
    "# 길이를 출력하는 함수 \n",
    "a = 'Hello'\n",
    "\n",
    "print(len(a))"
   ]
  },
  {
   "cell_type": "code",
   "execution_count": 2,
   "metadata": {},
   "outputs": [
    {
     "name": "stdout",
     "output_type": "stream",
     "text": [
      "4\n"
     ]
    }
   ],
   "source": [
    "a_list = [4, 3, 1, 6]\n",
    "\n",
    "print(len(a_list))"
   ]
  },
  {
   "cell_type": "code",
   "execution_count": 3,
   "metadata": {},
   "outputs": [
    {
     "name": "stdout",
     "output_type": "stream",
     "text": [
      "HELLO WORLD\n",
      "hello world\n",
      "hELLO WORLD\n",
      "Hello World\n"
     ]
    }
   ],
   "source": [
    "# 문자열 데이터의 형태를 변환 하는 함수 \n",
    "a = 'Hello world'\n",
    "# 모든 문자열을 대문자로 변환\n",
    "print(a.upper())\n",
    "# 모든 문자열을 소문자로 변환\n",
    "print(a.lower())\n",
    "# 대문자를 소문자로 소문자를 대문자로 변환\n",
    "print(a.swapcase())\n",
    "# 단어의 첫 글자만 대문자로 변환\n",
    "print(a.title())"
   ]
  },
  {
   "cell_type": "code",
   "execution_count": 5,
   "metadata": {},
   "outputs": [
    {
     "data": {
      "text/plain": [
       "'  Hello world  '"
      ]
     },
     "execution_count": 5,
     "metadata": {},
     "output_type": "execute_result"
    }
   ],
   "source": [
    "# 문자열의 좌우 공백을 제거 하는 함수 \n",
    "a = '  Hello world  '\n",
    "a"
   ]
  },
  {
   "cell_type": "code",
   "execution_count": 7,
   "metadata": {},
   "outputs": [
    {
     "data": {
      "text/plain": [
       "'Hello world  '"
      ]
     },
     "execution_count": 7,
     "metadata": {},
     "output_type": "execute_result"
    }
   ],
   "source": [
    "# 좌측 공백 제거 \n",
    "a.lstrip()\n"
   ]
  },
  {
   "cell_type": "code",
   "execution_count": 8,
   "metadata": {},
   "outputs": [
    {
     "data": {
      "text/plain": [
       "'  Hello world'"
      ]
     },
     "execution_count": 8,
     "metadata": {},
     "output_type": "execute_result"
    }
   ],
   "source": [
    "# 우측 공백 제거 \n",
    "a.rstrip()\n"
   ]
  },
  {
   "cell_type": "code",
   "execution_count": 9,
   "metadata": {},
   "outputs": [
    {
     "data": {
      "text/plain": [
       "'Hello world'"
      ]
     },
     "execution_count": 9,
     "metadata": {},
     "output_type": "execute_result"
    }
   ],
   "source": [
    "# 좌우의 공백을 제거 \n",
    "a.strip()"
   ]
  },
  {
   "cell_type": "code",
   "execution_count": 10,
   "metadata": {},
   "outputs": [],
   "source": [
    "b = \"_world_\""
   ]
  },
  {
   "cell_type": "code",
   "execution_count": 11,
   "metadata": {},
   "outputs": [
    {
     "data": {
      "text/plain": [
       "'world_'"
      ]
     },
     "execution_count": 11,
     "metadata": {},
     "output_type": "execute_result"
    }
   ],
   "source": [
    "b.lstrip('_')"
   ]
  },
  {
   "cell_type": "code",
   "execution_count": 12,
   "metadata": {},
   "outputs": [
    {
     "data": {
      "text/plain": [
       "'_world'"
      ]
     },
     "execution_count": 12,
     "metadata": {},
     "output_type": "execute_result"
    }
   ],
   "source": [
    "b.rstrip('_')"
   ]
  },
  {
   "cell_type": "code",
   "execution_count": 13,
   "metadata": {},
   "outputs": [
    {
     "data": {
      "text/plain": [
       "'world'"
      ]
     },
     "execution_count": 13,
     "metadata": {},
     "output_type": "execute_result"
    }
   ],
   "source": [
    "b.strip('_')"
   ]
  },
  {
   "cell_type": "code",
   "execution_count": 15,
   "metadata": {},
   "outputs": [
    {
     "data": {
      "text/plain": [
       "'  Hi world  '"
      ]
     },
     "execution_count": 15,
     "metadata": {},
     "output_type": "execute_result"
    }
   ],
   "source": [
    "## 선택한 문자열을 다른 문자로 변경\n",
    "a.replace('Hello', 'Hi')"
   ]
  },
  {
   "cell_type": "code",
   "execution_count": 16,
   "metadata": {},
   "outputs": [
    {
     "data": {
      "text/plain": [
       "'Helloworld'"
      ]
     },
     "execution_count": 16,
     "metadata": {},
     "output_type": "execute_result"
    }
   ],
   "source": [
    "# replace를 이용하여 공백을 제거 \n",
    "a.replace(' ', '')"
   ]
  },
  {
   "cell_type": "code",
   "execution_count": 17,
   "metadata": {},
   "outputs": [
    {
     "data": {
      "text/plain": [
       "['a', 'b', 'c', 'd']"
      ]
     },
     "execution_count": 17,
     "metadata": {},
     "output_type": "execute_result"
    }
   ],
   "source": [
    "# 특정한 문자열을 기준으로 하여 문자를 나눠주는 함수\n",
    "a = 'a b c d'\n",
    "a.split()"
   ]
  },
  {
   "cell_type": "code",
   "execution_count": 18,
   "metadata": {},
   "outputs": [
    {
     "data": {
      "text/plain": [
       "['1', '2', '3', '4']"
      ]
     },
     "execution_count": 18,
     "metadata": {},
     "output_type": "execute_result"
    }
   ],
   "source": [
    "b = '1.2.3.4'\n",
    "b.split('.')"
   ]
  },
  {
   "cell_type": "markdown",
   "metadata": {},
   "source": [
    "### 일반 함수 \n",
    "- 어떠한 입력값을 가지고 작업을 실행하고 결과물을 되돌려주는 기능"
   ]
  },
  {
   "cell_type": "code",
   "execution_count": 19,
   "metadata": {},
   "outputs": [
    {
     "name": "stdout",
     "output_type": "stream",
     "text": [
      "9\n"
     ]
    }
   ],
   "source": [
    "def func_1(a, b):\n",
    "    c = a + b\n",
    "    return c\n",
    "\n",
    "d = func_1(3, 6)\n",
    "print(d)"
   ]
  },
  {
   "cell_type": "markdown",
   "metadata": {},
   "source": [
    "### 변수의 종류 \n",
    "1. 전역 변수 \n",
    "    - 어디서든 사용이 가능한 변수 \n",
    "    - 함수의 내부에서나 외부에서 모든 영역에서 사용이 가능\n",
    "2. 지역 변수 \n",
    "    - 특정 영역에서만 사용이 가능한 변수 \n",
    "    - 함수 내부에서나 클래스의 내부에서 생성한 변수\n",
    "    - 해당하는 영역에서 벗어나면 사용이 불가능\n",
    "3. 매개 변수\n",
    "    - 함수를 선언할때 인자 값의 공간을 만들기 위한 변수\n",
    "    - 해당하는 함수 안에서만 사용이 가능\n",
    "4. 객체 변수 \n",
    "    - class 내부에서 사용이 되는 변수\n",
    "    - class 안에서 독립적으로 사용이 되는 변수 \n",
    "5. 클래스 변수 \n",
    "    - 같은 클래스를 생성 할 때 독립적인 객체 변수가 아닌 같은 클래스 안에서 서로 공유 할 수 있는 변수"
   ]
  },
  {
   "cell_type": "code",
   "execution_count": 20,
   "metadata": {},
   "outputs": [],
   "source": [
    "# 시작값과 종료값을 받아서 시작부터 종료값까지의 합계를 구하는 함수 생성\n",
    "\n",
    "def func_2(start, end):\n",
    "    func_result = 0\n",
    "\n",
    "    for i in range(start, end+1, 1):\n",
    "        func_result += i\n",
    "\n",
    "    return func_result"
   ]
  },
  {
   "cell_type": "code",
   "execution_count": 21,
   "metadata": {},
   "outputs": [
    {
     "data": {
      "text/plain": [
       "55"
      ]
     },
     "execution_count": 21,
     "metadata": {},
     "output_type": "execute_result"
    }
   ],
   "source": [
    "func_2(1, 10)"
   ]
  },
  {
   "cell_type": "code",
   "execution_count": 22,
   "metadata": {},
   "outputs": [
    {
     "ename": "NameError",
     "evalue": "name 'func_result' is not defined",
     "output_type": "error",
     "traceback": [
      "\u001b[1;31m---------------------------------------------------------------------------\u001b[0m",
      "\u001b[1;31mNameError\u001b[0m                                 Traceback (most recent call last)",
      "\u001b[1;32mc:\\Users\\moons\\Documents\\GitHub\\ubion_9\\python\\231120\\03_function.ipynb Cell 22\u001b[0m line \u001b[0;36m1\n\u001b[1;32m----> <a href='vscode-notebook-cell:/c%3A/Users/moons/Documents/GitHub/ubion_9/python/231120/03_function.ipynb#X30sZmlsZQ%3D%3D?line=0'>1</a>\u001b[0m \u001b[39mprint\u001b[39m(func_result)\n",
      "\u001b[1;31mNameError\u001b[0m: name 'func_result' is not defined"
     ]
    }
   ],
   "source": [
    "print(func_result)"
   ]
  },
  {
   "cell_type": "code",
   "execution_count": 23,
   "metadata": {},
   "outputs": [],
   "source": [
    "def func_3(x, y):\n",
    "    result = 0\n",
    "\n",
    "    i = min(x, y)\n",
    "\n",
    "    while i <= max(x, y):\n",
    "        result += i\n",
    "        i += 1\n",
    "    \n",
    "    return result"
   ]
  },
  {
   "cell_type": "code",
   "execution_count": 24,
   "metadata": {},
   "outputs": [
    {
     "name": "stdout",
     "output_type": "stream",
     "text": [
      "55\n",
      "55\n"
     ]
    }
   ],
   "source": [
    "print(func_3(1, 10))\n",
    "print(func_3(10, 1))"
   ]
  },
  {
   "cell_type": "code",
   "execution_count": 27,
   "metadata": {},
   "outputs": [],
   "source": [
    "## 인자의 개수가 가변인 경우 \n",
    "def func_4(*args):\n",
    "    # print(args)\n",
    "    # args 의 데이터 타입 : tuple \n",
    "    # args의 길이를 확인\n",
    "    count = len(args)\n",
    "    # args데이터의 누적합 \n",
    "    # 반복문을 이용하여 합계\n",
    "    # result = 0\n",
    "    # for i in range(0, count, 1):\n",
    "    #     # i가 의미하는 바는? -> 인덱스(위치)\n",
    "    #     result += args[i]\n",
    "    # for i in args:\n",
    "    #     # i가 의미하는 바는? -> tuple에 있는 각 원소 값\n",
    "    #     result += i\n",
    "    # i = 0\n",
    "    # while i < count:\n",
    "    #     result += args[i]\n",
    "    #     i += 1\n",
    "    # 합계 함수 존재\n",
    "    result = sum(args)\n",
    "    #되돌려주는 return은 합계 / 길이\n",
    "    return result / count"
   ]
  },
  {
   "cell_type": "code",
   "execution_count": 29,
   "metadata": {},
   "outputs": [
    {
     "name": "stdout",
     "output_type": "stream",
     "text": [
      "3.0\n",
      "20.0\n"
     ]
    }
   ],
   "source": [
    "print(func_4(1, 2, 3, 4, 5))\n",
    "print(func_4(10, 40, 10))"
   ]
  },
  {
   "cell_type": "code",
   "execution_count": 34,
   "metadata": {},
   "outputs": [
    {
     "name": "stdout",
     "output_type": "stream",
     "text": [
      "False\n",
      "True\n"
     ]
    }
   ],
   "source": [
    "# 비교연산자 ( ==, !=, >, <, >=, <=, in )\n",
    "\n",
    "# in 연산자 (포함 여부)\n",
    "\n",
    "# 만약에 x가 1 아니면 2 아니면 3 인 경우\n",
    "x = 4\n",
    "print((x == 1) | (x == 2) | (x == 3))\n",
    "print(x not in [1, 2, 3])"
   ]
  },
  {
   "cell_type": "code",
   "execution_count": 35,
   "metadata": {},
   "outputs": [],
   "source": [
    "# 인자의 개수가 가변인 함수를 생성\n",
    "# 인자 값들을 받아서 유니크한 값들로 이루어진 새로운 리스트를 출력 \n",
    "# func(1,1,2,3,4,5) -> [1, 2, 3, 4, 5]\n",
    "\n",
    "# 함수 생성 (매개변수 : 인자의 개수가 가변인 경우 1개)\n",
    "def func_5(*args):    \n",
    "    # 비어있는 리스트를 생성 \n",
    "    result = []\n",
    "    # 반복문을 사용하여 각 각의 원소 값들을 출력\n",
    "    for i in range(len(args)):\n",
    "        # 각 원소들이 위에서 생성한 리스트에 해당하는 \n",
    "        # 값이 존재하지 않는다면\n",
    "        # 첫번째 반복 : result -> [], i -> 0, args[i] -> 5 ---> result = [5]\n",
    "        # 두번째 반복 : result -> [5], i -> 1, args[i] -> 5 ---> result = [5]\n",
    "        # 세번째 반복 : result -> [5], i -> 2, args[i] -> 3 ---> result = [5, 3]\n",
    "        # 네번째 반복 : result -> [5, 3], i -> 3, args[i] -> 3 ---> result = [5, 3]\n",
    "        if args[i] not in result:\n",
    "            # 리스트에 해당하는 원소값을 추가 \n",
    "            result.append(args[i])\n",
    "    # 위에서 만들어진 리스트를 되돌려준다.\n",
    "    return result"
   ]
  },
  {
   "cell_type": "code",
   "execution_count": 36,
   "metadata": {},
   "outputs": [
    {
     "data": {
      "text/plain": [
       "[5, 3, 1, 2, 6, 4]"
      ]
     },
     "execution_count": 36,
     "metadata": {},
     "output_type": "execute_result"
    }
   ],
   "source": [
    "func_5(5, 5, 3, 3, 1, 2, 1, 6, 4)"
   ]
  },
  {
   "cell_type": "code",
   "execution_count": 39,
   "metadata": {},
   "outputs": [
    {
     "data": {
      "text/plain": [
       "[1, 2, 3, 4, 5, 6]"
      ]
     },
     "execution_count": 39,
     "metadata": {},
     "output_type": "execute_result"
    }
   ],
   "source": [
    "list(set([5, 5, 3, 3, 1, 2, 1, 6, 4]))"
   ]
  },
  {
   "cell_type": "code",
   "execution_count": 40,
   "metadata": {},
   "outputs": [],
   "source": [
    "def func_6(x_list):\n",
    "    print(x_list)"
   ]
  },
  {
   "cell_type": "code",
   "execution_count": 43,
   "metadata": {},
   "outputs": [
    {
     "name": "stdout",
     "output_type": "stream",
     "text": [
      "(1, 2, 3, 4)\n"
     ]
    }
   ],
   "source": [
    "func_6((1, 2, 3, 4))"
   ]
  },
  {
   "cell_type": "code",
   "execution_count": 44,
   "metadata": {},
   "outputs": [],
   "source": [
    "# 함수 생성하여 매개변수는 1개가 존재 \n",
    "# 매개변수에서 각 원소의 값들을 제곱하여 새로운 리스트를 되돌려주는 함수\n",
    "\n",
    "# 함수를 생성 (매개변수 1개 : 인자의 개수 고정)\n",
    "def func_7(x_list):\n",
    "    # 비어있는 리스트를 생성\n",
    "    result = []\n",
    "    # 각 원소들을 출력하기 위해 반복문을 사용\n",
    "    for i in x_list:\n",
    "        # i : x_list의 각 원소들이 대입하여 반복 실행\n",
    "        # 원소을 제곱하여 새로운 리스트에 추가 \n",
    "        result.append(i**2)\n",
    "    # 리스트를 되돌려준다\n",
    "    return result"
   ]
  },
  {
   "cell_type": "code",
   "execution_count": 45,
   "metadata": {},
   "outputs": [
    {
     "data": {
      "text/plain": [
       "[9, 25, 49]"
      ]
     },
     "execution_count": 45,
     "metadata": {},
     "output_type": "execute_result"
    }
   ],
   "source": [
    "func_7([3, 5, 7])"
   ]
  },
  {
   "cell_type": "code",
   "execution_count": 47,
   "metadata": {},
   "outputs": [
    {
     "name": "stdout",
     "output_type": "stream",
     "text": [
      "1 2 3 4 5\n"
     ]
    }
   ],
   "source": [
    "print(1, 2, 3, 4, 5)"
   ]
  },
  {
   "cell_type": "code",
   "execution_count": 48,
   "metadata": {},
   "outputs": [
    {
     "data": {
      "text/plain": [
       "16"
      ]
     },
     "execution_count": 48,
     "metadata": {},
     "output_type": "execute_result"
    }
   ],
   "source": [
    "# map(  함수명, 자료형 데이터 )\n",
    "\n",
    "def change(x):\n",
    "    return x ** 2\n",
    "\n",
    "change(4) "
   ]
  },
  {
   "cell_type": "code",
   "execution_count": 50,
   "metadata": {},
   "outputs": [
    {
     "data": {
      "text/plain": [
       "[1, 4, 9, 16]"
      ]
     },
     "execution_count": 50,
     "metadata": {},
     "output_type": "execute_result"
    }
   ],
   "source": [
    "list(map( change, [1,2,3,4] ))"
   ]
  },
  {
   "cell_type": "code",
   "execution_count": 51,
   "metadata": {},
   "outputs": [
    {
     "data": {
      "text/plain": [
       "[1, 4, 9, 16]"
      ]
     },
     "execution_count": 51,
     "metadata": {},
     "output_type": "execute_result"
    }
   ],
   "source": [
    "list(\n",
    "    map(\n",
    "        lambda x : x**2, \n",
    "        [1,2,3,4]\n",
    "    )\n",
    ")"
   ]
  }
 ],
 "metadata": {
  "kernelspec": {
   "display_name": "Python 3",
   "language": "python",
   "name": "python3"
  },
  "language_info": {
   "codemirror_mode": {
    "name": "ipython",
    "version": 3
   },
   "file_extension": ".py",
   "mimetype": "text/x-python",
   "name": "python",
   "nbconvert_exporter": "python",
   "pygments_lexer": "ipython3",
   "version": "3.8.9"
  }
 },
 "nbformat": 4,
 "nbformat_minor": 2
}
