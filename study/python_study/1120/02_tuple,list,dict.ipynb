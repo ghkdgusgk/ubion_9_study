{
 "cells": [
  {
   "cell_type": "markdown",
   "metadata": {},
   "source": [
    "### 자료형 데이터 \n",
    "1. tuple\n",
    "    - 자료형 데이터에서 가장 기본적인 데이터의 형태\n",
    "    - ( )로 묶어서 데이터의 형태를 생성\n",
    "    - 각 원소들의 수정, 추가, 삭제가 불가능\n",
    "2. list \n",
    "    - tuple에서 원소들을 수정, 추가, 삭제 기능이 가능한 자료형 데이터\n",
    "    - 내장함수들을 이용하여 데이터의 변화가 가능\n",
    "    - [ ] 묶어서 데이터의 형태를 생성\n",
    "3. dict\n",
    "    - 사전형 데이터를 의미\n",
    "    - R에서는 리스트의 형태와 흡사 \n",
    "    - key : value의 형태로 데이터가 구성\n",
    "    - { }로 묶어서 데이터의 형태를 생성"
   ]
  },
  {
   "cell_type": "code",
   "execution_count": 1,
   "metadata": {},
   "outputs": [
    {
     "name": "stdout",
     "output_type": "stream",
     "text": [
      "(1, 'Hello')\n",
      "(3, 3.14)\n"
     ]
    }
   ],
   "source": [
    "# tuple 데이터 \n",
    "a = (1, 'Hello')\n",
    "b = (3, 3.14)\n",
    "print(a)\n",
    "print(b)"
   ]
  },
  {
   "cell_type": "code",
   "execution_count": 2,
   "metadata": {},
   "outputs": [
    {
     "name": "stdout",
     "output_type": "stream",
     "text": [
      "(1, 'Hello', 3, 3.14)\n",
      "(1, 'Hello', 1, 'Hello', 1, 'Hello')\n"
     ]
    }
   ],
   "source": [
    "c = a + b\n",
    "d = a * 3\n",
    "print(c)\n",
    "print(d)"
   ]
  },
  {
   "cell_type": "code",
   "execution_count": 3,
   "metadata": {},
   "outputs": [],
   "source": [
    "# list 데이터\n",
    "a = [20, 10, 40, 30]\n",
    "b = [10, 20, 40, 30]"
   ]
  },
  {
   "cell_type": "code",
   "execution_count": 6,
   "metadata": {},
   "outputs": [
    {
     "name": "stdout",
     "output_type": "stream",
     "text": [
      "[10, 20, 30, 40]\n"
     ]
    }
   ],
   "source": [
    "# 리스트의 순서를 오름차순 정렬 \n",
    "a.sort()\n",
    "print(a)"
   ]
  },
  {
   "cell_type": "code",
   "execution_count": 7,
   "metadata": {},
   "outputs": [
    {
     "name": "stdout",
     "output_type": "stream",
     "text": [
      "[30, 40, 20, 10]\n"
     ]
    }
   ],
   "source": [
    "# 리스트의 순서를 역순으로 변경\n",
    "b.reverse()\n",
    "print(b)"
   ]
  },
  {
   "cell_type": "code",
   "execution_count": 9,
   "metadata": {},
   "outputs": [
    {
     "name": "stdout",
     "output_type": "stream",
     "text": [
      "[40, 30, 20, 10]\n"
     ]
    }
   ],
   "source": [
    "a.sort()\n",
    "a.reverse()\n",
    "print(a)"
   ]
  },
  {
   "cell_type": "code",
   "execution_count": 10,
   "metadata": {},
   "outputs": [
    {
     "name": "stdout",
     "output_type": "stream",
     "text": [
      "[40, 30, 20, 10]\n"
     ]
    }
   ],
   "source": [
    "a.sort(reverse=True)\n",
    "print(a)"
   ]
  },
  {
   "cell_type": "code",
   "execution_count": 11,
   "metadata": {},
   "outputs": [
    {
     "name": "stdout",
     "output_type": "stream",
     "text": [
      "[40, 30, 20]\n"
     ]
    }
   ],
   "source": [
    "# 리스트의 마지막 원소를 제거 \n",
    "a.pop()\n",
    "print(a)"
   ]
  },
  {
   "cell_type": "code",
   "execution_count": 12,
   "metadata": {},
   "outputs": [
    {
     "name": "stdout",
     "output_type": "stream",
     "text": [
      "[30, 40, 20, 10, 22]\n"
     ]
    }
   ],
   "source": [
    "# 리스트의 가장 마지막 위치에 원소를 추가 \n",
    "b.append(22)\n",
    "print(b)"
   ]
  },
  {
   "cell_type": "code",
   "execution_count": 14,
   "metadata": {},
   "outputs": [
    {
     "name": "stdout",
     "output_type": "stream",
     "text": [
      "[2, 4, 6, 8, 10]\n"
     ]
    }
   ],
   "source": [
    "# 리스트의 특징 : 리스트는 생성 할때 원소의 개수가 0개 이상\n",
    "result = []\n",
    "\n",
    "for i in range(1, 11, 1):\n",
    "    # 짝수의 조건식\n",
    "    if i % 2 == 0:\n",
    "        result.append(i)\n",
    "print(result)"
   ]
  },
  {
   "cell_type": "code",
   "execution_count": 15,
   "metadata": {},
   "outputs": [
    {
     "name": "stdout",
     "output_type": "stream",
     "text": [
      "[10, 30, 20, 40]\n",
      "[10, 30, 20, 40]\n"
     ]
    }
   ],
   "source": [
    "# copy() : 복사\n",
    "a = [10, 30, 20, 40]\n",
    "b = a\n",
    "print(a)\n",
    "print(b)"
   ]
  },
  {
   "cell_type": "code",
   "execution_count": 16,
   "metadata": {},
   "outputs": [],
   "source": [
    "a.sort()"
   ]
  },
  {
   "cell_type": "code",
   "execution_count": 17,
   "metadata": {},
   "outputs": [
    {
     "name": "stdout",
     "output_type": "stream",
     "text": [
      "[10, 20, 30, 40]\n"
     ]
    }
   ],
   "source": [
    "print(a)"
   ]
  },
  {
   "cell_type": "code",
   "execution_count": 18,
   "metadata": {},
   "outputs": [
    {
     "name": "stdout",
     "output_type": "stream",
     "text": [
      "[10, 20, 30, 40]\n"
     ]
    }
   ],
   "source": [
    "print(b)"
   ]
  },
  {
   "cell_type": "code",
   "execution_count": 19,
   "metadata": {},
   "outputs": [
    {
     "name": "stdout",
     "output_type": "stream",
     "text": [
      "[10, 20, 30, 40]\n",
      "[10, 30, 20, 40]\n"
     ]
    }
   ],
   "source": [
    "a = [10, 30, 20, 40]\n",
    "b = a.copy()\n",
    "\n",
    "a.sort()\n",
    "\n",
    "print(a)\n",
    "print(b)"
   ]
  },
  {
   "cell_type": "code",
   "execution_count": 20,
   "metadata": {},
   "outputs": [],
   "source": [
    "# dict 데이터 생성 \n",
    "dict = {\n",
    "    'name' : 'test', \n",
    "    'age' : 20, \n",
    "    'phone' : '01012345678'\n",
    "}"
   ]
  },
  {
   "cell_type": "code",
   "execution_count": 21,
   "metadata": {},
   "outputs": [
    {
     "data": {
      "text/plain": [
       "'test'"
      ]
     },
     "execution_count": 21,
     "metadata": {},
     "output_type": "execute_result"
    }
   ],
   "source": [
    "dict['name']"
   ]
  },
  {
   "cell_type": "code",
   "execution_count": 24,
   "metadata": {},
   "outputs": [],
   "source": [
    "# 새로운 key:value를 추가 \n",
    "dict['area']='Seoul'"
   ]
  },
  {
   "cell_type": "code",
   "execution_count": 25,
   "metadata": {},
   "outputs": [
    {
     "name": "stdout",
     "output_type": "stream",
     "text": [
      "{'name': 'test', 'age': 20, 'phone': '01012345678', 'area': 'Seoul'}\n"
     ]
    }
   ],
   "source": [
    "print(dict)"
   ]
  },
  {
   "cell_type": "code",
   "execution_count": 27,
   "metadata": {},
   "outputs": [],
   "source": [
    "dict['age'] = 30"
   ]
  },
  {
   "cell_type": "code",
   "execution_count": 28,
   "metadata": {},
   "outputs": [],
   "source": [
    "# openapi, DB 에서 데이터를 가져오는 경우 \n",
    "# 데이터의 형태가 [{}, {}, {}]\n",
    "test_data = [\n",
    "    {\n",
    "        'name' : 'test', \n",
    "        'age' : 20\n",
    "    }, \n",
    "    {\n",
    "        'name' : 'test2', \n",
    "        'age' : 30\n",
    "    }, \n",
    "    {\n",
    "        'name' : 'test3', \n",
    "        'age' : 40\n",
    "    }\n",
    "]"
   ]
  },
  {
   "cell_type": "code",
   "execution_count": 29,
   "metadata": {},
   "outputs": [
    {
     "name": "stdout",
     "output_type": "stream",
     "text": [
      "[{'name': 'test', 'age': 20}, {'name': 'test2', 'age': 30}, {'name': 'test3', 'age': 40}]\n"
     ]
    }
   ],
   "source": [
    "# test_data에서 test2만 추출\n",
    "print(test_data)"
   ]
  },
  {
   "cell_type": "code",
   "execution_count": 30,
   "metadata": {},
   "outputs": [
    {
     "name": "stdout",
     "output_type": "stream",
     "text": [
      "{'name': 'test2', 'age': 30}\n"
     ]
    }
   ],
   "source": [
    "print(test_data[1])"
   ]
  },
  {
   "cell_type": "code",
   "execution_count": 31,
   "metadata": {},
   "outputs": [
    {
     "name": "stdout",
     "output_type": "stream",
     "text": [
      "test2\n"
     ]
    }
   ],
   "source": [
    "print(test_data[1]['name'])"
   ]
  },
  {
   "cell_type": "code",
   "execution_count": 32,
   "metadata": {},
   "outputs": [
    {
     "name": "stdout",
     "output_type": "stream",
     "text": [
      "['test', 'test2', 'test3']\n"
     ]
    }
   ],
   "source": [
    "# test_data에서 name의 value들만 출력하여 새로운 리스트 생성\n",
    "result = []\n",
    "\n",
    "result.append(test_data[0]['name'])\n",
    "result.append(test_data[1]['name'])\n",
    "result.append(test_data[2]['name'])\n",
    "print(result)"
   ]
  },
  {
   "cell_type": "code",
   "execution_count": 33,
   "metadata": {},
   "outputs": [
    {
     "data": {
      "text/plain": [
       "3"
      ]
     },
     "execution_count": 33,
     "metadata": {},
     "output_type": "execute_result"
    }
   ],
   "source": [
    "# 리스트의 길이 만큼 반복 \n",
    "length_list = len(test_data)\n",
    "length_list"
   ]
  },
  {
   "cell_type": "code",
   "execution_count": 34,
   "metadata": {},
   "outputs": [
    {
     "name": "stdout",
     "output_type": "stream",
     "text": [
      "['test', 'test2', 'test3']\n"
     ]
    }
   ],
   "source": [
    "result = []\n",
    "for i in range(length_list):\n",
    "    # i가 의미하는 바는? 인덱스\n",
    "    result.append(test_data[i]['name'])\n",
    "print(result)"
   ]
  },
  {
   "cell_type": "code",
   "execution_count": 39,
   "metadata": {},
   "outputs": [
    {
     "ename": "IndexError",
     "evalue": "list index out of range",
     "output_type": "error",
     "traceback": [
      "\u001b[1;31m---------------------------------------------------------------------------\u001b[0m",
      "\u001b[1;31mIndexError\u001b[0m                                Traceback (most recent call last)",
      "\u001b[1;32mc:\\Users\\moons\\Documents\\GitHub\\ubion_9\\python\\231120\\02_tuple,list,dict.ipynb Cell 29\u001b[0m line \u001b[0;36m4\n\u001b[0;32m      <a href='vscode-notebook-cell:/c%3A/Users/moons/Documents/GitHub/ubion_9/python/231120/02_tuple%2Clist%2Cdict.ipynb#X41sZmlsZQ%3D%3D?line=1'>2</a>\u001b[0m i \u001b[39m=\u001b[39m \u001b[39m0\u001b[39m\n\u001b[0;32m      <a href='vscode-notebook-cell:/c%3A/Users/moons/Documents/GitHub/ubion_9/python/231120/02_tuple%2Clist%2Cdict.ipynb#X41sZmlsZQ%3D%3D?line=2'>3</a>\u001b[0m \u001b[39mwhile\u001b[39;00m i \u001b[39m<\u001b[39m\u001b[39m=\u001b[39m length_list:\n\u001b[1;32m----> <a href='vscode-notebook-cell:/c%3A/Users/moons/Documents/GitHub/ubion_9/python/231120/02_tuple%2Clist%2Cdict.ipynb#X41sZmlsZQ%3D%3D?line=3'>4</a>\u001b[0m     result\u001b[39m.\u001b[39mappend(test_data[i][\u001b[39m'\u001b[39m\u001b[39mname\u001b[39m\u001b[39m'\u001b[39m])\n\u001b[0;32m      <a href='vscode-notebook-cell:/c%3A/Users/moons/Documents/GitHub/ubion_9/python/231120/02_tuple%2Clist%2Cdict.ipynb#X41sZmlsZQ%3D%3D?line=4'>5</a>\u001b[0m     i \u001b[39m+\u001b[39m\u001b[39m=\u001b[39m \u001b[39m1\u001b[39m\n\u001b[0;32m      <a href='vscode-notebook-cell:/c%3A/Users/moons/Documents/GitHub/ubion_9/python/231120/02_tuple%2Clist%2Cdict.ipynb#X41sZmlsZQ%3D%3D?line=5'>6</a>\u001b[0m \u001b[39mprint\u001b[39m(result)\n",
      "\u001b[1;31mIndexError\u001b[0m: list index out of range"
     ]
    }
   ],
   "source": [
    "result = []\n",
    "i = 0\n",
    "while i <= length_list:\n",
    "    result.append(test_data[i]['name'])\n",
    "    i += 1\n",
    "print(result)"
   ]
  },
  {
   "cell_type": "code",
   "execution_count": 38,
   "metadata": {},
   "outputs": [
    {
     "name": "stdout",
     "output_type": "stream",
     "text": [
      "['test', 'test2', 'test3']\n"
     ]
    }
   ],
   "source": [
    "result = []\n",
    "\n",
    "for i in test_data:\n",
    "    result.append(i['name'])\n",
    "    # print(i['name'])\n",
    "print(result)"
   ]
  },
  {
   "cell_type": "code",
   "execution_count": null,
   "metadata": {},
   "outputs": [],
   "source": []
  }
 ],
 "metadata": {
  "kernelspec": {
   "display_name": "Python 3",
   "language": "python",
   "name": "python3"
  },
  "language_info": {
   "codemirror_mode": {
    "name": "ipython",
    "version": 3
   },
   "file_extension": ".py",
   "mimetype": "text/x-python",
   "name": "python",
   "nbconvert_exporter": "python",
   "pygments_lexer": "ipython3",
   "version": "3.11.1"
  }
 },
 "nbformat": 4,
 "nbformat_minor": 2
}
