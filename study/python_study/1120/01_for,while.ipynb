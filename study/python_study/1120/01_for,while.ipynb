{
 "cells": [
  {
   "cell_type": "markdown",
   "metadata": {},
   "source": [
    "## 반복문 \n",
    "- for문\n",
    "    - for 변수명 in 자료형데이터\n",
    "    - for 변수명 in range(시작값, 종료값, 증가값)\n",
    "- while문\n",
    "    - 시작값을 지정하고\n",
    "    - while 조건식\n",
    "        - 조건식이 거짓될때까지 반복 실행\n",
    "        - while문에서 실행되는 코드에서 시작값을 증가시키는 부분 추가\n",
    "- break \n",
    "    - 반복문을 강제로 종료\n",
    "- continue \n",
    "    - 반복문으로 되돌아간다"
   ]
  },
  {
   "cell_type": "code",
   "execution_count": 1,
   "metadata": {},
   "outputs": [
    {
     "name": "stdout",
     "output_type": "stream",
     "text": [
      "1\n",
      "2\n",
      "3\n",
      "4\n",
      "5\n",
      "6\n",
      "7\n",
      "8\n",
      "9\n"
     ]
    }
   ],
   "source": [
    "for i in range(1, 10, 1):\n",
    "    print(i)"
   ]
  },
  {
   "cell_type": "code",
   "execution_count": 2,
   "metadata": {},
   "outputs": [
    {
     "name": "stdout",
     "output_type": "stream",
     "text": [
      "0\n",
      "1\n",
      "2\n",
      "3\n",
      "4\n",
      "5\n",
      "6\n",
      "7\n",
      "8\n",
      "9\n"
     ]
    }
   ],
   "source": [
    "# range(시작값, 종료값, 증가값)\n",
    "# 시작값은 0이 기본값,  증가값은 1이 기본값\n",
    "for i in range(10):\n",
    "    print(i)"
   ]
  },
  {
   "cell_type": "code",
   "execution_count": 4,
   "metadata": {},
   "outputs": [
    {
     "name": "stdout",
     "output_type": "stream",
     "text": [
      "55\n"
     ]
    }
   ],
   "source": [
    "## 1부터 10까지의 합계를 구하자\n",
    "result = 0\n",
    "for i in range(1, 11, 1):\n",
    "    # result = result + i\n",
    "    result += i\n",
    "\n",
    "print(result)"
   ]
  },
  {
   "cell_type": "code",
   "execution_count": 5,
   "metadata": {},
   "outputs": [
    {
     "name": "stdout",
     "output_type": "stream",
     "text": [
      "55\n"
     ]
    }
   ],
   "source": [
    "# while문을 이용하여 1부터 10까지 합계\n",
    "result = 0\n",
    "\n",
    "i = 1\n",
    "\n",
    "while i <= 10:\n",
    "    result += i\n",
    "    i += 1\n",
    "\n",
    "print(result)"
   ]
  },
  {
   "cell_type": "code",
   "execution_count": 6,
   "metadata": {},
   "outputs": [
    {
     "name": "stdout",
     "output_type": "stream",
     "text": [
      "2 6\n",
      "3 5\n",
      "4 4\n",
      "5 3\n",
      "6 2\n"
     ]
    }
   ],
   "source": [
    "# 다중 for문 \n",
    "\n",
    "# 주사위 2개 굴렸을때 두 주사위의 합이 8인 경우의 수는?\n",
    "\n",
    "for i in range(1, 7, 1):\n",
    "    for j in range(1, 7, 1):\n",
    "        if i + j == 8:\n",
    "            print(i, j)"
   ]
  },
  {
   "cell_type": "markdown",
   "metadata": {},
   "source": [
    "### 반복문 예제 (다중 for문)\n",
    "- 페르마의 마지막 정리가 참인가 확인\n",
    "> a<sup>n</sup> + b<sup>n</sup> = c<sup>n</sup> 이 식에서 n이 2보다 큰 자연수라면 a, b, c에 들어갈수 있는 자연수는 존재하지 않는다. \n",
    "- n이 3이라고 가정하고 a, b, c에 1부터 10까지 값들을 넣어서 해당하는 조건식이 참인 경우가 존재하는가 확인"
   ]
  },
  {
   "cell_type": "code",
   "execution_count": 9,
   "metadata": {},
   "outputs": [
    {
     "name": "stdout",
     "output_type": "stream",
     "text": [
      "프로그램 종료\n"
     ]
    }
   ],
   "source": [
    "n = 4\n",
    "# a의 경우의 수 만큼 반복을 하는 for문 생성\n",
    "for a in range(1, 11, 1):\n",
    "    # b의 경우의 수 만큼 반복을 하는 for문 생성\n",
    "    for b in range(1, 11, 1):\n",
    "        # c의 경우의 수 만큼 반복을 하는 for문 생성\n",
    "        for c in range(1, 11, 1):\n",
    "            # 마지막 정리의 수식이 참인 경우 라는 조건문 생성\n",
    "            # a**3 + b**3 == c**3\n",
    "            if a**n + b**n == c**n:\n",
    "                # 참인 경우 a, b, c의 값을 출력\n",
    "                print(a, b, c)\n",
    "print('프로그램 종료') "
   ]
  },
  {
   "cell_type": "code",
   "execution_count": 12,
   "metadata": {},
   "outputs": [
    {
     "name": "stdout",
     "output_type": "stream",
     "text": [
      "2\n",
      "3\n",
      "4\n",
      "5\n"
     ]
    }
   ],
   "source": [
    "# break문 \n",
    "i = 1\n",
    "\n",
    "while i <= 100:\n",
    "    i += 1\n",
    "    print(i)\n",
    "    if i == 5:\n",
    "        break"
   ]
  },
  {
   "cell_type": "code",
   "execution_count": 13,
   "metadata": {},
   "outputs": [
    {
     "name": "stdout",
     "output_type": "stream",
     "text": [
      "5\n",
      "6\n",
      "7\n",
      "8\n",
      "9\n"
     ]
    }
   ],
   "source": [
    "for i in range(10):\n",
    "    if i < 5:\n",
    "        continue\n",
    "    print(i)"
   ]
  },
  {
   "cell_type": "markdown",
   "metadata": {},
   "source": []
  }
 ],
 "metadata": {
  "kernelspec": {
   "display_name": "Python 3",
   "language": "python",
   "name": "python3"
  },
  "language_info": {
   "codemirror_mode": {
    "name": "ipython",
    "version": 3
   },
   "file_extension": ".py",
   "mimetype": "text/x-python",
   "name": "python",
   "nbconvert_exporter": "python",
   "pygments_lexer": "ipython3",
   "version": "3.11.1"
  }
 },
 "nbformat": 4,
 "nbformat_minor": 2
}
