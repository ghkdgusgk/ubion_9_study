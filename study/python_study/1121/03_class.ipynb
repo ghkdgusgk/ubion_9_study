{
 "cells": [
  {
   "cell_type": "markdown",
   "metadata": {},
   "source": [
    "### Class 선언\n",
    "    - class 키워드를 이용하여 클래스 선언\n",
    "    - class 이름은 일반적으로 앞글자를 대문자로 표시\n",
    "### Class 생성 \n",
    "    - 선언이 된 class를 변수를 이용하여 class를 저장\n",
    "### Class 안에 있는 변수, 함수를 호출\n",
    "    - class가 저장된 변수 안에 있는 변수, 함수를 호출"
   ]
  },
  {
   "cell_type": "code",
   "execution_count": null,
   "metadata": {},
   "outputs": [],
   "source": [
    "# class를 선언 \n",
    "class Class_1:\n",
    "    # 생성자 함수 (__init__)\n",
    "    def __init__(self, _x, _y):\n",
    "        self.x = _x\n",
    "        self.y = _y"
   ]
  },
  {
   "cell_type": "code",
   "execution_count": null,
   "metadata": {},
   "outputs": [],
   "source": [
    "# class를 생성\n",
    "c1 = Class_1(5, 3)"
   ]
  },
  {
   "cell_type": "code",
   "execution_count": null,
   "metadata": {},
   "outputs": [],
   "source": [
    "# class안에 존재하는 변수를 호출\n",
    "print(c1.x)\n",
    "print(c1.y)"
   ]
  },
  {
   "cell_type": "code",
   "execution_count": null,
   "metadata": {},
   "outputs": [],
   "source": [
    "# class 생성\n",
    "c2 = Class_1(10, 30)"
   ]
  },
  {
   "cell_type": "code",
   "execution_count": null,
   "metadata": {},
   "outputs": [],
   "source": [
    "# class 안에 있는 변수를 호출\n",
    "print(c2.x)\n",
    "print(c2.y)"
   ]
  },
  {
   "cell_type": "code",
   "execution_count": null,
   "metadata": {},
   "outputs": [],
   "source": [
    "print(c1.x)\n",
    "print(c2.x)"
   ]
  },
  {
   "cell_type": "code",
   "execution_count": null,
   "metadata": {},
   "outputs": [],
   "source": [
    "class Class_2:\n",
    "    def __init__(self, _x, _y):\n",
    "        self.x = _x\n",
    "        self.y = _y\n",
    "    # _type에 따른 계산 결과 리턴\n",
    "    def calculate(self, _type):\n",
    "        if _type == '+':\n",
    "            result = self.x + self.y\n",
    "        else :\n",
    "            result = self.x - self.y\n",
    "        return result"
   ]
  },
  {
   "cell_type": "code",
   "execution_count": null,
   "metadata": {},
   "outputs": [],
   "source": [
    "c3 = Class_2(10, 2)\n",
    "c4 = Class_2(50, 100)"
   ]
  },
  {
   "cell_type": "code",
   "execution_count": null,
   "metadata": {},
   "outputs": [],
   "source": [
    "# class 안에 있는 함수를 호출\n",
    "print(c3.calculate('+'))\n",
    "print(c4.calculate('+'))"
   ]
  },
  {
   "cell_type": "markdown",
   "metadata": {},
   "source": [
    "### class 예제\n",
    "1. class의 이름은 User\n",
    "2. 생성자 함수에서는 유저의 이름, 생년월일, 휴대폰번호를 매개변수로 받아서 class 안에 self변수로 저장\n",
    "3. info() 함수를 생성하여 유저의 정보를 출력하는 함수를 생성"
   ]
  },
  {
   "cell_type": "code",
   "execution_count": null,
   "metadata": {},
   "outputs": [],
   "source": [
    "class User:\n",
    "    # 클래스 변수 생성\n",
    "    user_list = []\n",
    "    def __init__(self, _name, _birth, _phone):\n",
    "        self.name = _name\n",
    "        self.birth = _birth\n",
    "        self.phone = _phone\n",
    "        self.user_list.append(_name)\n",
    "    \n",
    "    def info(self):\n",
    "        result = f\"\"\"유저의 이름은 {self.name}이고 \n",
    "        생년월일은 {self.birth}이고 휴대폰 번호는 {self.phone}이다\"\"\"\n",
    "        return result"
   ]
  },
  {
   "cell_type": "code",
   "execution_count": null,
   "metadata": {},
   "outputs": [],
   "source": [
    "user1 = User('kim', '800101', '01012345678')\n",
    "user2 = User('park', '900101', '01098765432')"
   ]
  },
  {
   "cell_type": "code",
   "execution_count": null,
   "metadata": {},
   "outputs": [],
   "source": [
    "print(user1.info())\n",
    "print(user2.info())"
   ]
  },
  {
   "cell_type": "code",
   "execution_count": null,
   "metadata": {},
   "outputs": [],
   "source": [
    "print(user1.user_list)\n",
    "print(user2.user_list)"
   ]
  },
  {
   "cell_type": "code",
   "execution_count": null,
   "metadata": {},
   "outputs": [],
   "source": [
    "print(a)"
   ]
  },
  {
   "cell_type": "code",
   "execution_count": null,
   "metadata": {},
   "outputs": [],
   "source": [
    "import pymysql"
   ]
  },
  {
   "cell_type": "code",
   "execution_count": null,
   "metadata": {},
   "outputs": [],
   "source": [
    "class Mydb:\n",
    "    # 생성자 함수 (매개변수 : host, port, user, password, db)\n",
    "    def __init__(self, _host, _port, _user, _password, _db):\n",
    "        self.host = _host\n",
    "        self.port = _port\n",
    "        self.user = _user\n",
    "        self.password = _password\n",
    "        self.db = _db\n",
    "     \n",
    "    # Query문을 데이터베이스에 보내주고 결과값을 받아오는 함수 \n",
    "    def sql_qeury(self, _sql, *_values):\n",
    "        # 데이터베이스 서버와 연결\n",
    "        _db = pymysql.connect(\n",
    "            host = self.host,\n",
    "            port = self.port, \n",
    "            user = self.user, \n",
    "            password = self.password, \n",
    "            db = self.db\n",
    "        )\n",
    "        # 커서 가상 공간을 생성\n",
    "        cursor = _db.cursor(pymysql.cursors.DictCursor)\n",
    "        # 입력값으로 받아온 sql query문을 실행\n",
    "        cursor.execute(_sql, _values)\n",
    "        # sql query문이 select 문이라면\n",
    "        if _sql.lower().split()[0] == 'select':\n",
    "            result = cursor.fetchall()\n",
    "        else:\n",
    "            _db.commit()\n",
    "            result = 'Query OK'\n",
    "        \n",
    "        # 데이터베이스 서버와의 연결을 종료\n",
    "        _db.close()\n",
    "        \n",
    "        return result"
   ]
  },
  {
   "cell_type": "code",
   "execution_count": null,
   "metadata": {},
   "outputs": [],
   "source": [
    "# class 생성 \n",
    "mydb1 = Mydb(\n",
    "    '127.0.0.1', \n",
    "    3306, \n",
    "    'root', \n",
    "    '1234', \n",
    "    'ubion'\n",
    ")"
   ]
  },
  {
   "cell_type": "code",
   "execution_count": null,
   "metadata": {},
   "outputs": [],
   "source": [
    "sql = \"\"\"\n",
    "    select \n",
    "    * \n",
    "    from \n",
    "    user \n",
    "    where \n",
    "    id = %s\n",
    "\"\"\"\n",
    "\n",
    "mydb1.sql_qeury(sql, 'test2')"
   ]
  },
  {
   "cell_type": "code",
   "execution_count": null,
   "metadata": {},
   "outputs": [],
   "source": [
    "mydb2 = Mydb(\n",
    "    '172.16.11.155', \n",
    "    3306, \n",
    "    'ubion', \n",
    "    '1234', \n",
    "    'ubion'\n",
    ")"
   ]
  },
  {
   "cell_type": "code",
   "execution_count": null,
   "metadata": {},
   "outputs": [],
   "source": [
    "sql = \"\"\"\n",
    "    select \n",
    "    * \n",
    "    from \n",
    "    aapl\n",
    "\"\"\"\n",
    "mydb2.sql_qeury(sql)"
   ]
  },
  {
   "cell_type": "code",
   "execution_count": null,
   "metadata": {},
   "outputs": [],
   "source": [
    "mydb1.sql_qeury(sql)"
   ]
  }
 ],
 "metadata": {
  "kernelspec": {
   "display_name": "Python 3",
   "language": "python",
   "name": "python3"
  },
  "language_info": {
   "codemirror_mode": {
    "name": "ipython",
    "version": 3
   },
   "file_extension": ".py",
   "mimetype": "text/x-python",
   "name": "python",
   "nbconvert_exporter": "python",
   "pygments_lexer": "ipython3",
   "version": "3.11.1"
  }
 },
 "nbformat": 4,
 "nbformat_minor": 2
}
