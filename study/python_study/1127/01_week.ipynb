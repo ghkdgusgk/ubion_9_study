{
 "cells": [
  {
   "cell_type": "markdown",
   "metadata": {},
   "source": [
    "# 변수  \n",
    "- 데이터가 저장되는 공간의 이름 \n",
    "- 저장되는 공간은 주소값 표현 -> 특정한 문자로 표시 \n",
    "- 숫자로 시작이 불가능\n",
    "- 특수문자 사용이 불가능 (예외 _는 가능)\n",
    "- 변수명 사이에 공백 불가능\n",
    "- 대,소문자 구분\n",
    "\n",
    "# 데이터의 타입 \n",
    "- 문자열 \n",
    "    - \"\"로 묶어서 표시 \n",
    "- 숫자형\n",
    "    - 정수(int)\n",
    "    - 실수(float)\n",
    "- 불형\n",
    "    - 참/거짓\n",
    "- 튜플(tuple)\n",
    "    - 자료형 데이터의 가장 기본적인 구조\n",
    "    - 원소들의 수정, 삭제, 삽입 불가능 \n",
    "    - () 묶어서 원소들을 표시\n",
    "- 리스트(list)\n",
    "    - 튜플에 비해서 기능 추가 \n",
    "    - 내장함수를 이용하여 데이터의 수정이나 삭제 추가가 가능\n",
    "    - [] 묶어서 원소들을 표시\n",
    "- 딕셔너리(dict)\n",
    "    - 사전형 데이터 \n",
    "    - key : value 쌍으로 이루어진 자료형 데이터 \n",
    "    - key가 의미하는건? -> list에서 index와 같은 의미\n",
    "    - {key:value, ...}\n",
    "# 함수\n",
    "- 특정한 입력값을 입력 하고 스크립트에 의해 가공처리 되어 변환된 데이터를 돌려받는다. \n",
    "- 함수 안에 작성한 코드들을 여러 곳에서 사용하기 위해 함수를 생성\n",
    "- 입력 값이 저장되는 공간 : 매개변수\n",
    "- 매개변수에 입력되는 데이터 : 인자\n",
    "- 매개변수를 이용하여 인자값을 받아와서 함수 내의 코드들이 실행이 되고 결과 값을 되돌려주는 행동\n",
    "- def 키워드를 이용하여 함수를 생성하고 함수명(인자값)을 이용하여 함수를 호출\n",
    "# 클래스\n",
    "- 변수 + 함수 형태\n",
    "- 특수 함수 \n",
    "    - 생성자 함수\n",
    "        - `__init__`() : 클래스가 생성이 될때 최초로 한번만 실행이 되는 함수 (초기화 함수)\n",
    "        - 클래스가 생성이 될때 인자 값을 받아서 클래스 안에 있는 인스턴스변수(self변수), 클래스변수에 값을 대입\n",
    "- 클래스 안에 함수들을 정의 클래스명.함수명(인자) 함수를 호출 \n",
    "- 인스턴스 변수들은 독립적인 데이터를 보유하고 있음으로 클래스 안에서 호출 되는 함수들 독립적인 데이터를 출력 "
   ]
  },
  {
   "cell_type": "code",
   "execution_count": 1,
   "metadata": {},
   "outputs": [
    {
     "name": "stdout",
     "output_type": "stream",
     "text": [
      "<class 'str'>\n",
      "<class 'int'>\n"
     ]
    }
   ],
   "source": [
    "# 변수를 생성 \n",
    "# python에서는 변수를 선언함과 동시에 데이터 대입 \n",
    "a = \"Hello\"\n",
    "b = 10\n",
    "\n",
    "print(type(a))\n",
    "print(type(b))"
   ]
  },
  {
   "cell_type": "code",
   "execution_count": 2,
   "metadata": {},
   "outputs": [
    {
     "name": "stdout",
     "output_type": "stream",
     "text": [
      "(1, 'Hello', 3, True)\n",
      "(1, 'Hello', 1, 'Hello', 1, 'Hello')\n"
     ]
    }
   ],
   "source": [
    "# 자료형 데이터 \n",
    "# tuple\n",
    "tuple_a = (1, 'Hello')\n",
    "tuple_b = (3, True)\n",
    "\n",
    "# 튜플의 합\n",
    "print(tuple_a + tuple_b)\n",
    "# 튜플의 곱\n",
    "print(tuple_a * 3)"
   ]
  },
  {
   "cell_type": "code",
   "execution_count": 4,
   "metadata": {},
   "outputs": [
    {
     "name": "stdout",
     "output_type": "stream",
     "text": [
      "[1, 7, 9, 10]\n"
     ]
    }
   ],
   "source": [
    "# list\n",
    "list_a = [1,2,3,4,5]\n",
    "list_b = [10, 7, 9, 1]\n",
    "\n",
    "# list의 정렬을 변경 \n",
    "list_b.sort()\n",
    "print(list_b)"
   ]
  },
  {
   "cell_type": "code",
   "execution_count": 5,
   "metadata": {},
   "outputs": [
    {
     "name": "stdout",
     "output_type": "stream",
     "text": [
      "[5, 4, 3, 2, 1]\n"
     ]
    }
   ],
   "source": [
    "# 리스트의 순서를 역순으로 변경 \n",
    "list_a.reverse()\n",
    "print(list_a)"
   ]
  },
  {
   "cell_type": "code",
   "execution_count": 7,
   "metadata": {},
   "outputs": [
    {
     "name": "stdout",
     "output_type": "stream",
     "text": [
      "[10, 9, 7, 1]\n"
     ]
    }
   ],
   "source": [
    "# 내림차순으로 정렬을 변경 \n",
    "list_b.sort()\n",
    "list_b.reverse()\n",
    "print(list_b)"
   ]
  },
  {
   "cell_type": "code",
   "execution_count": 8,
   "metadata": {},
   "outputs": [
    {
     "name": "stdout",
     "output_type": "stream",
     "text": [
      "[10, 9, 7, 1]\n"
     ]
    }
   ],
   "source": [
    "list_b.sort(reverse=True)\n",
    "print(list_b)"
   ]
  },
  {
   "cell_type": "code",
   "execution_count": 9,
   "metadata": {},
   "outputs": [
    {
     "name": "stdout",
     "output_type": "stream",
     "text": [
      "[5, 4, 3, 2, 1, 10]\n"
     ]
    }
   ],
   "source": [
    "# append() : 리스트의 맨 뒤에 원소를 추가 \n",
    "list_a.append(10)\n",
    "print(list_a)"
   ]
  },
  {
   "cell_type": "code",
   "execution_count": 10,
   "metadata": {},
   "outputs": [
    {
     "name": "stdout",
     "output_type": "stream",
     "text": [
      "[10, 9, 7]\n"
     ]
    }
   ],
   "source": [
    "# pop() : 리스트의 가장 마지막 원소를 제거 \n",
    "list_b.pop()\n",
    "print(list_b)"
   ]
  },
  {
   "cell_type": "code",
   "execution_count": 11,
   "metadata": {},
   "outputs": [
    {
     "name": "stdout",
     "output_type": "stream",
     "text": [
      "[10, 9, 7]\n"
     ]
    }
   ],
   "source": [
    "# copy() : 데이터를 복사(복제)하여 새로운 변수에 대입\n",
    "copy_b = list_b\n",
    "print(copy_b)"
   ]
  },
  {
   "cell_type": "code",
   "execution_count": 12,
   "metadata": {},
   "outputs": [
    {
     "name": "stdout",
     "output_type": "stream",
     "text": [
      "[10, 9, 7]\n"
     ]
    }
   ],
   "source": [
    "copy_b2 = list_b.copy()\n",
    "print(copy_b2)"
   ]
  },
  {
   "cell_type": "code",
   "execution_count": 13,
   "metadata": {},
   "outputs": [
    {
     "name": "stdout",
     "output_type": "stream",
     "text": [
      "[10, 9, 7, 5]\n",
      "[10, 9, 7, 5]\n",
      "[10, 9, 7]\n"
     ]
    }
   ],
   "source": [
    "copy_b.append(5)\n",
    "print(copy_b)\n",
    "print(list_b)\n",
    "print(copy_b2)"
   ]
  },
  {
   "cell_type": "code",
   "execution_count": 14,
   "metadata": {},
   "outputs": [
    {
     "name": "stdout",
     "output_type": "stream",
     "text": [
      "[10, 9, 7, 5, 1]\n",
      "[10, 9, 7, 5, 1]\n",
      "[10, 9, 7]\n"
     ]
    }
   ],
   "source": [
    "list_b.append(1)\n",
    "print(copy_b)\n",
    "print(list_b)\n",
    "print(copy_b2)"
   ]
  },
  {
   "cell_type": "code",
   "execution_count": 15,
   "metadata": {},
   "outputs": [
    {
     "name": "stdout",
     "output_type": "stream",
     "text": [
      "[10, 9, 7, 5, 1]\n",
      "[10, 9, 7, 5, 1]\n",
      "[10, 9]\n"
     ]
    }
   ],
   "source": [
    "copy_b2.pop()\n",
    "print(copy_b)\n",
    "print(list_b)\n",
    "print(copy_b2)"
   ]
  },
  {
   "cell_type": "code",
   "execution_count": 16,
   "metadata": {},
   "outputs": [
    {
     "name": "stdout",
     "output_type": "stream",
     "text": [
      "test\n",
      "20\n"
     ]
    }
   ],
   "source": [
    "# 딕셔너리 형태\n",
    "dict_a = {\n",
    "    'name' : 'test', \n",
    "    'age' : 20, \n",
    "    'loc' : 'seoul'\n",
    "}\n",
    "# test라는 문자열만 출력\n",
    "print(dict_a['name'])\n",
    "print(dict_a['age'])"
   ]
  },
  {
   "cell_type": "code",
   "execution_count": 17,
   "metadata": {},
   "outputs": [
    {
     "name": "stdout",
     "output_type": "stream",
     "text": [
      "{'name': 'test', 'age': 20, 'loc': 'seoul', 'phone': '010123456780'}\n"
     ]
    }
   ],
   "source": [
    "# dict데이터에 새로운 key:value를 추가\n",
    "dict_a['phone'] = '010123456780'\n",
    "print(dict_a)"
   ]
  },
  {
   "cell_type": "code",
   "execution_count": 18,
   "metadata": {},
   "outputs": [],
   "source": [
    "# key:value를 제거 \n",
    "del dict_a['loc']"
   ]
  },
  {
   "cell_type": "code",
   "execution_count": 19,
   "metadata": {},
   "outputs": [
    {
     "data": {
      "text/plain": [
       "{'name': 'test', 'age': 20, 'phone': '010123456780'}"
      ]
     },
     "execution_count": 19,
     "metadata": {},
     "output_type": "execute_result"
    }
   ],
   "source": [
    "dict_a"
   ]
  },
  {
   "cell_type": "code",
   "execution_count": 21,
   "metadata": {},
   "outputs": [],
   "source": [
    "dict_a['age'] = 30"
   ]
  },
  {
   "cell_type": "code",
   "execution_count": 22,
   "metadata": {},
   "outputs": [
    {
     "name": "stdout",
     "output_type": "stream",
     "text": [
      "{'name': 'test', 'age': 30, 'phone': '010123456780'}\n"
     ]
    }
   ],
   "source": [
    "print(dict_a)"
   ]
  },
  {
   "cell_type": "code",
   "execution_count": 23,
   "metadata": {},
   "outputs": [
    {
     "name": "stdout",
     "output_type": "stream",
     "text": [
      "Hello\n",
      "Hello\n"
     ]
    }
   ],
   "source": [
    "# 함수 \n",
    "def func_1():\n",
    "    result = 'Hello'\n",
    "    return result\n",
    "\n",
    "print(func_1())\n",
    "print(func_1())"
   ]
  },
  {
   "cell_type": "code",
   "execution_count": 24,
   "metadata": {},
   "outputs": [
    {
     "name": "stdout",
     "output_type": "stream",
     "text": [
      "8\n",
      "12\n"
     ]
    }
   ],
   "source": [
    "def func_2(x, y):\n",
    "    result = x + y \n",
    "    return result\n",
    "\n",
    "print(func_2(5, 3))\n",
    "print(func_2(10, 2))"
   ]
  },
  {
   "cell_type": "code",
   "execution_count": 27,
   "metadata": {},
   "outputs": [
    {
     "name": "stdout",
     "output_type": "stream",
     "text": [
      "36\n",
      "343\n",
      "32\n"
     ]
    }
   ],
   "source": [
    "# 매개변수에 기본값을 설정 \n",
    "def func_3(x, y = 2):\n",
    "    result = x ** y\n",
    "    return result\n",
    "\n",
    "print(func_3(6))\n",
    "print(func_3(7, 3))\n",
    "print(func_3(y = 5, x = 2))"
   ]
  },
  {
   "cell_type": "code",
   "execution_count": 28,
   "metadata": {},
   "outputs": [],
   "source": [
    "def func_4(\n",
    "        data, \n",
    "        drop = False, \n",
    "        inplace = False, \n",
    "        ascending = True\n",
    "):\n",
    "    result =  [data, drop, inplace, ascending]\n",
    "    return result"
   ]
  },
  {
   "cell_type": "code",
   "execution_count": 29,
   "metadata": {},
   "outputs": [
    {
     "name": "stdout",
     "output_type": "stream",
     "text": [
      "['col', False, False, False]\n"
     ]
    }
   ],
   "source": [
    "print(func_4(\"col\", ascending= False))"
   ]
  },
  {
   "cell_type": "code",
   "execution_count": 33,
   "metadata": {},
   "outputs": [],
   "source": [
    "# class 선언\n",
    "\n",
    "class Test:\n",
    "    \n",
    "    # 생성자 함수 \n",
    "    def __init__(self, _data):\n",
    "        self.data = _data\n",
    "    \n",
    "    def __repr__(self):\n",
    "        return self.data\n",
    "    \n",
    "    def update_data(self, _data, inplace = False):\n",
    "        if inplace:\n",
    "            self.data = _data\n",
    "        else:\n",
    "            return _data"
   ]
  },
  {
   "cell_type": "code",
   "execution_count": 34,
   "metadata": {},
   "outputs": [
    {
     "data": {
      "text/plain": [
       "Hello"
      ]
     },
     "execution_count": 34,
     "metadata": {},
     "output_type": "execute_result"
    }
   ],
   "source": [
    "test1 = Test('Hello')\n",
    "test1"
   ]
  },
  {
   "cell_type": "code",
   "execution_count": 35,
   "metadata": {},
   "outputs": [
    {
     "data": {
      "text/plain": [
       "'Hi'"
      ]
     },
     "execution_count": 35,
     "metadata": {},
     "output_type": "execute_result"
    }
   ],
   "source": [
    "test1.update_data('Hi')"
   ]
  },
  {
   "cell_type": "code",
   "execution_count": 36,
   "metadata": {},
   "outputs": [
    {
     "data": {
      "text/plain": [
       "Hello"
      ]
     },
     "execution_count": 36,
     "metadata": {},
     "output_type": "execute_result"
    }
   ],
   "source": [
    "test1"
   ]
  },
  {
   "cell_type": "code",
   "execution_count": 37,
   "metadata": {},
   "outputs": [],
   "source": [
    "test1.update_data('Hi', inplace=True)"
   ]
  },
  {
   "cell_type": "code",
   "execution_count": 38,
   "metadata": {},
   "outputs": [
    {
     "data": {
      "text/plain": [
       "Hi"
      ]
     },
     "execution_count": 38,
     "metadata": {},
     "output_type": "execute_result"
    }
   ],
   "source": [
    "test1"
   ]
  },
  {
   "cell_type": "code",
   "execution_count": 39,
   "metadata": {},
   "outputs": [
    {
     "data": {
      "text/plain": [
       "a"
      ]
     },
     "execution_count": 39,
     "metadata": {},
     "output_type": "execute_result"
    }
   ],
   "source": [
    "test2 = Test('a')\n",
    "test2"
   ]
  },
  {
   "cell_type": "code",
   "execution_count": 40,
   "metadata": {},
   "outputs": [
    {
     "data": {
      "text/plain": [
       "b"
      ]
     },
     "execution_count": 40,
     "metadata": {},
     "output_type": "execute_result"
    }
   ],
   "source": [
    "test3 = Test('b')\n",
    "test3"
   ]
  },
  {
   "cell_type": "code",
   "execution_count": null,
   "metadata": {},
   "outputs": [],
   "source": []
  }
 ],
 "metadata": {
  "kernelspec": {
   "display_name": "Python 3",
   "language": "python",
   "name": "python3"
  },
  "language_info": {
   "codemirror_mode": {
    "name": "ipython",
    "version": 3
   },
   "file_extension": ".py",
   "mimetype": "text/x-python",
   "name": "python",
   "nbconvert_exporter": "python",
   "pygments_lexer": "ipython3",
   "version": "3.11.1"
  }
 },
 "nbformat": 4,
 "nbformat_minor": 2
}
