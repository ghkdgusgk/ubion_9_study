{
 "cells": [
  {
   "cell_type": "markdown",
   "metadata": {},
   "source": [
    "### csv 폴더 안에 2017 폴더에 있는 모든 파일을 하나의 데이터프레임 결합 \n",
    "1. 일반적인 방법 -> 12번 파일을 로드 -> concat()을 이용하여 데이터를 결합\n",
    "2. 반복문을 이용하는 방법 생각"
   ]
  },
  {
   "cell_type": "code",
   "execution_count": null,
   "metadata": {},
   "outputs": [],
   "source": [
    "import pandas as pd"
   ]
  },
  {
   "cell_type": "code",
   "execution_count": null,
   "metadata": {},
   "outputs": [],
   "source": [
    "df01 = pd.read_csv('../../csv/2017/201701_expense_list.csv')"
   ]
  },
  {
   "cell_type": "code",
   "execution_count": null,
   "metadata": {},
   "outputs": [],
   "source": [
    "df01"
   ]
  },
  {
   "cell_type": "code",
   "execution_count": null,
   "metadata": {},
   "outputs": [],
   "source": [
    "data_list = ['01', '02', '03', '04', '05', \n",
    "             '06', '07', '08', '09', '10', '11', '12']\n",
    "df_2017 = pd.DataFrame()\n",
    "for i in data_list:\n",
    "    path =f\"../../csv/2017/2017{i}_expense_list.csv\"\n",
    "    print(path)\n",
    "    df = pd.read_csv(path)\n",
    "    df_2017 = pd.concat([df_2017, df], axis=0)\n"
   ]
  },
  {
   "cell_type": "code",
   "execution_count": null,
   "metadata": {},
   "outputs": [],
   "source": [
    "df_2017.info()"
   ]
  },
  {
   "cell_type": "code",
   "execution_count": null,
   "metadata": {},
   "outputs": [],
   "source": [
    "# 반복문을 이용하여 반복 횟수만큼 변수를 생성 \n",
    "globals()['a'] = 'test'"
   ]
  },
  {
   "cell_type": "code",
   "execution_count": null,
   "metadata": {},
   "outputs": [],
   "source": [
    "globals()"
   ]
  },
  {
   "cell_type": "code",
   "execution_count": null,
   "metadata": {},
   "outputs": [],
   "source": [
    "a"
   ]
  },
  {
   "cell_type": "code",
   "execution_count": null,
   "metadata": {},
   "outputs": [],
   "source": [
    "for i in range(1, 5, 1):\n",
    "    globals()[f\"df{i}\"] = i "
   ]
  },
  {
   "cell_type": "code",
   "execution_count": null,
   "metadata": {},
   "outputs": [],
   "source": [
    "globals()"
   ]
  },
  {
   "cell_type": "code",
   "execution_count": null,
   "metadata": {},
   "outputs": [],
   "source": [
    "df1"
   ]
  },
  {
   "cell_type": "code",
   "execution_count": null,
   "metadata": {},
   "outputs": [],
   "source": [
    "df2"
   ]
  },
  {
   "cell_type": "code",
   "execution_count": null,
   "metadata": {},
   "outputs": [],
   "source": [
    "for i in data_list:\n",
    "    path = f\"../../csv/2018/2018{i}_expense_list.csv\"\n",
    "    # globals()를 이용하여 전역변수 생성\n",
    "    globals()[f'df_2017{i}'] = pd.read_csv(path)"
   ]
  },
  {
   "cell_type": "code",
   "execution_count": null,
   "metadata": {},
   "outputs": [],
   "source": [
    "df_201712.info()"
   ]
  },
  {
   "cell_type": "code",
   "execution_count": null,
   "metadata": {},
   "outputs": [],
   "source": [
    "df_2018 = pd.concat(\n",
    "    [df_201701, df_201702, df_201703, df_201704, \n",
    "     df_201705, df_201706, df_201707, df_201708, \n",
    "     df_201709, df_201710, df_201711, df_201712], \n",
    "     axis=0, ignore_index=True\n",
    ")"
   ]
  },
  {
   "cell_type": "code",
   "execution_count": null,
   "metadata": {},
   "outputs": [],
   "source": [
    "df_2018.info()"
   ]
  },
  {
   "cell_type": "code",
   "execution_count": null,
   "metadata": {},
   "outputs": [],
   "source": [
    "# os 라는 라이브러리를 이용하여 특정 경로에 있는 파일 리스트 출력\n",
    "import os"
   ]
  },
  {
   "cell_type": "code",
   "execution_count": null,
   "metadata": {},
   "outputs": [],
   "source": [
    "os.listdir(\"../../csv/2017/\")"
   ]
  },
  {
   "cell_type": "code",
   "execution_count": null,
   "metadata": {},
   "outputs": [],
   "source": [
    "# 파일의 경로 \n",
    "path = '../../csv/2017/'\n",
    "\n",
    "data_list = os.listdir(path)\n",
    "\n",
    "df_2017 = pd.DataFrame()\n",
    "\n",
    "for i in data_list:\n",
    "    df = pd.read_csv(path+i)\n",
    "    df_2017 = pd.concat([df_2017, df], axis=0)\n",
    "    # print(path+i)"
   ]
  },
  {
   "cell_type": "code",
   "execution_count": null,
   "metadata": {},
   "outputs": [],
   "source": [
    "df_2017.info()"
   ]
  },
  {
   "cell_type": "code",
   "execution_count": null,
   "metadata": {},
   "outputs": [],
   "source": [
    "def data_load(_path, _end):\n",
    "    # _path : 유저가 입력한 경로\n",
    "    # _end : 파일 확장자명\n",
    "\n",
    "    # 유저가 입력한 경로의 파일 리스트 생성\n",
    "    data_list = os.listdir(_path)\n",
    "    # 비어있는 데이터프레임을 생성 \n",
    "    result = pd.DataFrame()\n",
    "\n",
    "    # data_list를 기준으로 반복문 생성\n",
    "    for i in data_list:\n",
    "        if _end == 'csv':\n",
    "            df = pd.read_csv(_path+i)\n",
    "        elif _end == 'json':\n",
    "            df = pd.read_json(_path + i)\n",
    "        elif (_end == 'xlsx') | (_end=='xls'):\n",
    "            df = pd.read_excel(_path + i)\n",
    "        elif _end == 'xml':\n",
    "            df = pd.read_xml(_path + i)\n",
    "        else:\n",
    "            return \"지원하지 않는 확장자입니다.\"\n",
    "        result = pd.concat([result, df], axis=0, ignore_index=True)\n",
    "        print(i)\n",
    "    return result    \n"
   ]
  },
  {
   "cell_type": "code",
   "execution_count": null,
   "metadata": {},
   "outputs": [],
   "source": [
    "df_2018 = data_load('../../csv/2018/', 'csv')"
   ]
  },
  {
   "cell_type": "code",
   "execution_count": null,
   "metadata": {},
   "outputs": [],
   "source": [
    "df_2018.info()"
   ]
  },
  {
   "cell_type": "code",
   "execution_count": null,
   "metadata": {},
   "outputs": [],
   "source": [
    "df_2019 = data_load(\"../../csv/2019/\", 'json')"
   ]
  },
  {
   "cell_type": "code",
   "execution_count": null,
   "metadata": {},
   "outputs": [],
   "source": [
    "df_2019.info()"
   ]
  },
  {
   "cell_type": "code",
   "execution_count": null,
   "metadata": {},
   "outputs": [],
   "source": [
    "df_2020 = data_load('../../csv/2020/', 'xlsx')"
   ]
  },
  {
   "cell_type": "code",
   "execution_count": null,
   "metadata": {},
   "outputs": [],
   "source": [
    "df_2020.info()"
   ]
  }
 ],
 "metadata": {
  "kernelspec": {
   "display_name": "Python 3",
   "language": "python",
   "name": "python3"
  },
  "language_info": {
   "codemirror_mode": {
    "name": "ipython",
    "version": 3
   },
   "file_extension": ".py",
   "mimetype": "text/x-python",
   "name": "python",
   "nbconvert_exporter": "python",
   "pygments_lexer": "ipython3",
   "version": "3.11.1"
  }
 },
 "nbformat": 4,
 "nbformat_minor": 2
}
